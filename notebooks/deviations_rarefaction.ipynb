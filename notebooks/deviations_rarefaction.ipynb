{
 "cells": [
  {
   "cell_type": "code",
   "execution_count": 1,
   "metadata": {},
   "outputs": [],
   "source": [
    "scores = '../out/ko_scores.txt'\n",
    "dev = '../out/deviating.tsv'"
   ]
  },
  {
   "cell_type": "code",
   "execution_count": 2,
   "metadata": {},
   "outputs": [],
   "source": [
    "%matplotlib inline\n",
    "\n",
    "import seaborn as sns\n",
    "import matplotlib.pyplot as plt\n",
    "from adjustText import adjust_text\n",
    "from matplotlib_venn import venn2, venn3\n",
    "\n",
    "sns.set_style('white')\n",
    "\n",
    "plt.rc('font', size=12)"
   ]
  },
  {
   "cell_type": "code",
   "execution_count": 3,
   "metadata": {},
   "outputs": [],
   "source": [
    "import random\n",
    "import itertools\n",
    "import numpy as np\n",
    "import pandas as pd"
   ]
  },
  {
   "cell_type": "code",
   "execution_count": 4,
   "metadata": {},
   "outputs": [
    {
     "name": "stdout",
     "output_type": "stream",
     "text": [
      "YPS 4093\n",
      "Y55 4190\n",
      "UWOP 4014\n",
      "S288C 4889\n",
      "\n",
      "total 3786\n"
     ]
    }
   ],
   "source": [
    "m = pd.read_table(scores, index_col=[0, 2, 1])\n",
    "m['phenotype'] = m['qvalue'] < 0.05\n",
    "genes = None\n",
    "for s in {x[0] for x in m.index}:\n",
    "    gs = {x[0] for x in m.loc[s].index}\n",
    "    if genes is None:\n",
    "        genes = gs\n",
    "    else:\n",
    "        genes = genes.intersection(gs)\n",
    "    print(s, len(gs))\n",
    "print('')\n",
    "print('total', len(genes))\n",
    "genes = sorted(genes)\n",
    "p = m.reset_index().set_index('gene').loc[genes].groupby('condition').sum()['phenotype']\n",
    "pgenes = m.loc[(slice(None), genes),].groupby('gene')['phenotype'].max()\n",
    "pgenes = set(pgenes[pgenes == True].index)"
   ]
  },
  {
   "cell_type": "code",
   "execution_count": 5,
   "metadata": {},
   "outputs": [],
   "source": [
    "strains = ['S288C', 'Y55',\n",
    "           'UWOP', 'YPS']\n",
    "cstrains = {x: c\n",
    "            for x, c in zip(strains, sns.color_palette('Set1', len(strains)))}"
   ]
  },
  {
   "cell_type": "code",
   "execution_count": 6,
   "metadata": {},
   "outputs": [],
   "source": [
    "d = pd.read_table(dev, index_col=[4, 5, 1, 0])\n",
    "d = d.loc[(slice(None), slice(None), genes),]\n",
    "d = d.sort_index().reset_index()"
   ]
  },
  {
   "cell_type": "code",
   "execution_count": 7,
   "metadata": {},
   "outputs": [],
   "source": [
    "res = []\n",
    "for s in strains:\n",
    "    x1 = d[d['strain1'] == s]\n",
    "    x2 = d[d['strain2'] == s]\n",
    "    x1 = x1.rename(columns={'strain1': 'strain',\n",
    "                            'phenotype1': 'phenotype',\n",
    "                            'strain2': 'other',\n",
    "                            'phenotype2': 'otherp'}\n",
    "                  ).T.sort_index().T\n",
    "    x2 = x2.rename(columns={'strain2': 'strain',\n",
    "                            'phenotype2': 'phenotype',\n",
    "                            'strain1': 'other',\n",
    "                            'phenotype1': 'otherp'}\n",
    "                  ).T.sort_index().T\n",
    "    x = pd.concat([x1, x2]).reindex()\n",
    "    \n",
    "    y = x[(x['phenotype']) | (x['otherp'])]\n",
    "    \n",
    "    for o in set(strains).difference([s]):\n",
    "        e = y[(y['phenotype']) &\n",
    "              (y['qvalue'] < 0.01) &\n",
    "              (y['other'] == o)].set_index(['gene',\n",
    "                                            'condition'])\n",
    "        sh = y[(y['phenotype']) &\n",
    "               (y['otherp']) &\n",
    "               (y['qvalue'] >=  0.01) &\n",
    "               (y['other'] == o)].set_index(['gene',\n",
    "                                             'condition'])\n",
    "        \n",
    "        p = sh.shape[0] + e.shape[0]\n",
    "        \n",
    "        res.append((s, o,\n",
    "                    2,\n",
    "                    sh.shape[0]/p,\n",
    "                    e.shape[0]/p))\n",
    "    \n",
    "    for i in [2, 3]:\n",
    "        for o in itertools.combinations(set(strains).difference([s]),\n",
    "                                        i):\n",
    "            e = y[(y['phenotype']) &\n",
    "                  (y['qvalue'] < 0.01) &\n",
    "                  (y['other'].isin(o))].set_index(['gene',\n",
    "                                                   'condition']).sort_index()\n",
    "            sh = y[(y['phenotype']) &\n",
    "                   (y['otherp']) &\n",
    "                   (y['qvalue'] >=  0.01) &\n",
    "                   (y['other'].isin(o))].groupby(['gene',\n",
    "                                                  'condition'])['strain'].count()\n",
    "            sh = sh[sh >= i]\n",
    "            \n",
    "            e = e.loc[e.index.difference(sh.index)]\n",
    "            \n",
    "            p = sh.shape[0] + e.shape[0]\n",
    "        \n",
    "            res.append((s, ','.join(o),\n",
    "                        i+1,\n",
    "                        sh.shape[0]/p,\n",
    "                        e.shape[0]/p))\n",
    "\n",
    "r = pd.DataFrame(res,\n",
    "                 columns=['strain',\n",
    "                          'others',\n",
    "                          'comparisons',\n",
    "                          'shared',\n",
    "                          'exclusive'])"
   ]
  },
  {
   "cell_type": "code",
   "execution_count": 8,
   "metadata": {},
   "outputs": [],
   "source": [
    "p = r.set_index(['strain',\n",
    "                 'others',\n",
    "                 'comparisons']).stack()\n",
    "\n",
    "p = p.to_frame().reset_index()\n",
    "p.columns = ['strain',\n",
    "             'others',\n",
    "             'comparisons',\n",
    "             'variable',\n",
    "             'value']"
   ]
  },
  {
   "cell_type": "code",
   "execution_count": 9,
   "metadata": {},
   "outputs": [
    {
     "name": "stderr",
     "output_type": "stream",
     "text": [
      "/usr/local/lib/python3.6/dist-packages/scipy/stats/stats.py:1713: FutureWarning: Using a non-tuple sequence for multidimensional indexing is deprecated; use `arr[tuple(seq)]` instead of `arr[seq]`. In the future this will be interpreted as an array index, `arr[np.array(seq)]`, which will result either in an error or a different result.\n",
      "  return np.add.reduce(sorted[indexer] * weights, axis=axis) / sumval\n"
     ]
    },
    {
     "data": {
      "image/png": "[encoded data removed]",
      "text/plain": [
       "<Figure size 288x288 with 1 Axes>"
      ]
     },
     "metadata": {
      "needs_background": "light"
     },
     "output_type": "display_data"
    }
   ],
   "source": [
    "sns.catplot(x='comparisons', y='value',\n",
    "            hue='strain',\n",
    "            height=4, aspect=1,\n",
    "            kind='bar', data=p[p['variable'] == 'shared'],\n",
    "            hue_order=p[(p['variable'] == 'shared') &\n",
    "                        (p['comparisons'] == 2)\n",
    "                       ].groupby('strain')['value'].mean().sort_values().index,\n",
    "            palette=[cstrains[x] for x in p[(p['variable'] == 'shared') &\n",
    "                                            (p['comparisons'] == 2)\n",
    "                                           ].groupby('strain')['value'\n",
    "                                           ].mean().sort_values().index],\n",
    "            legend=False)\n",
    "\n",
    "plt.legend(title='Strain',\n",
    "           loc='upper right')\n",
    "\n",
    "plt.ylabel('Proportion of shared phenotypes')\n",
    "plt.xlabel('Number of strains')\n",
    "\n",
    "sns.despine(top=False,\n",
    "            right=False)\n",
    "\n",
    "plt.savefig('deviations-sets-increasing.png',\n",
    "            dpi=300, bbox_inches='tight',\n",
    "            transparent=True)\n",
    "plt.savefig('deviations-sets-increasing.svg',\n",
    "            dpi=300, bbox_inches='tight',\n",
    "            transparent=True);"
   ]
  }
 ],
 "metadata": {
  "kernelspec": {
   "display_name": "Python 3",
   "language": "python",
   "name": "python3"
  },
  "language_info": {
   "codemirror_mode": {
    "name": "ipython",
    "version": 3
   },
   "file_extension": ".py",
   "mimetype": "text/x-python",
   "name": "python",
   "nbconvert_exporter": "python",
   "pygments_lexer": "ipython3",
   "version": "3.6.6"
  }
 },
 "nbformat": 4,
 "nbformat_minor": 2
}
