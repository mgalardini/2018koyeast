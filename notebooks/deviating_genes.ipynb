{
 "cells": [
  {
   "cell_type": "code",
   "execution_count": 1,
   "metadata": {},
   "outputs": [],
   "source": [
    "scores = '../out/ko_scores.txt'\n",
    "dev = '../out/deviating.tsv'\n",
    "sgd = '../out/SGD_features.tab'\n",
    "biogrid = '../out/biogrid.all.txt'\n",
    "biogrid_genetic = '../out/biogrid.genetic.txt'\n",
    "obo = '../out/SGD_slim.obo'\n",
    "gaf = '../out/SGD_slim.tsv'\n",
    "threshold = 0.5"
   ]
  },
  {
   "cell_type": "code",
   "execution_count": 2,
   "metadata": {},
   "outputs": [],
   "source": [
    "%matplotlib inline\n",
    "\n",
    "import seaborn as sns\n",
    "import matplotlib.pyplot as plt\n",
    "from adjustText import adjust_text\n",
    "\n",
    "sns.set_style('white')\n",
    "\n",
    "plt.rc('font', size=12)"
   ]
  },
  {
   "cell_type": "code",
   "execution_count": 3,
   "metadata": {},
   "outputs": [],
   "source": [
    "import itertools\n",
    "import numpy as np\n",
    "import pandas as pd\n",
    "from scipy import stats\n",
    "import statsmodels.api as sm\n",
    "from goatools.obo_parser import GODag\n",
    "from goatools.go_enrichment import GOEnrichmentStudy"
   ]
  },
  {
   "cell_type": "code",
   "execution_count": 4,
   "metadata": {},
   "outputs": [],
   "source": [
    "def cohens(x, y):\n",
    "    r\"\"\"Effect size metric through Cohen's *d* metric\n",
    "    :param x: first vector\n",
    "    :param y: second vector\n",
    "    :return: absolute effect size value\n",
    "    The Cohen's effect size *d* is defined as the difference\n",
    "    between two means divided by a standard deviation of the data.\n",
    "    .. math::\n",
    "        d = \\frac{\\bar{x}_1 - \\bar{x}_2}{s}\n",
    "    For two independent samples, the *pooled standard deviation* is used\n",
    "    instead, which is defined as:\n",
    "    .. math::\n",
    "        s = \\sqrt{  \\frac{(n_1-1)s_1^2 + (n_2-1)s_2^2}{n_1+n_2-2} }\n",
    "    A Cohen's *d* is frequently used in estimating sample sizes for\n",
    "    statistical testing: a lower *d* value indicates the necessity of\n",
    "    larger sample sizes, and vice versa.\n",
    "    .. note:: we return the absolute value\n",
    "    :references: https://en.wikipedia.org/wiki/Effect_size\n",
    "    \"\"\"\n",
    "    x = np.array(x)\n",
    "    y = np.array(y)\n",
    "\n",
    "    Nx = len(x) - 1.  # note the dot to cast to float\n",
    "    Ny = len(y) - 1.\n",
    "    # mean difference:\n",
    "    md = np.abs(x.mean() - y.mean())\n",
    "    # here, we want same as in R that is unbiased variance\n",
    "    # so we use ddof = 1\n",
    "    xv = x.var(ddof=1)\n",
    "    yv = y.var(ddof=1)\n",
    "    csd = Nx * xv + Ny * yv\n",
    "    csd /= Nx + Ny  # make sure this is float\n",
    "    csd = np.sqrt(csd)\n",
    "\n",
    "    return md / csd"
   ]
  },
  {
   "cell_type": "code",
   "execution_count": 5,
   "metadata": {},
   "outputs": [],
   "source": [
    "def compare(w, df,\n",
    "            iterations=10,\n",
    "            name='',\n",
    "            threshold=0.1):\n",
    "    idx = df.index.intersection(w.index)\n",
    "\n",
    "    y = w.loc[idx]\n",
    "    df = df.loc[idx]\n",
    "\n",
    "    res = []\n",
    "    for x in df.loc[y[y > threshold].index].values:\n",
    "        res.append((name, 'real', x))\n",
    "    for i in range(iterations):\n",
    "        for x in df.loc[y[y <= threshold].sample(n=y[y > threshold].shape[0],\n",
    "                                                 replace=False).index]:\n",
    "            res.append((name, 'random%d' % i, x))\n",
    "    for x in df.loc[y[y <= threshold].index]:\n",
    "        res.append((name, 'random', x))\n",
    "    r = pd.DataFrame(res,\n",
    "                     columns=['name', 'set', 'v'])\n",
    "\n",
    "    return r"
   ]
  },
  {
   "cell_type": "code",
   "execution_count": 6,
   "metadata": {},
   "outputs": [],
   "source": [
    "def go_enrich(pop, study,\n",
    "              go, obodag):\n",
    "    res = []\n",
    "    goeaobj = GOEnrichmentStudy(pop,\n",
    "                                go, obodag,\n",
    "                                propagate_counts=False,\n",
    "                                alpha=0.05,\n",
    "                                methods=['fdr_bh'],\n",
    "                                log=None)\n",
    "    goe = goeaobj.run_study(study,\n",
    "                            log=None)\n",
    "    for xx in goe:\n",
    "        res.append([xx.goterm.id,\n",
    "                    xx.goterm.namespace,\n",
    "                    xx.goterm.depth,\n",
    "                    xx.goterm.name,\n",
    "                    '%d/%d' % xx.ratio_in_study,\n",
    "                    '%d/%d' % xx.ratio_in_pop,\n",
    "                    xx.p_uncorrected,\n",
    "                    xx.p_fdr_bh])\n",
    "    g = pd.DataFrame(res,\n",
    "                     columns=['go',\n",
    "                              'go_namespace',\n",
    "                              'go_depth',\n",
    "                              'go_name',\n",
    "                              'ratio_in_study',\n",
    "                              'ratio_in_population',\n",
    "                              'pvalue',\n",
    "                              'qvalue'])\n",
    "    g = g[g['qvalue'] < 0.01]\n",
    "    return g"
   ]
  },
  {
   "cell_type": "code",
   "execution_count": 7,
   "metadata": {},
   "outputs": [
    {
     "name": "stdout",
     "output_type": "stream",
     "text": [
      "../out/SGD_slim.obo: fmt(1.2) rel(None) 254 GO Terms\n"
     ]
    }
   ],
   "source": [
    "obodag = GODag(obo)\n",
    "go = {}\n",
    "rgo = {}\n",
    "for l in open(gaf):\n",
    "    gene, gos = l.rstrip().split()\n",
    "    go[gene] = set(gos.split(';')) - {''}\n",
    "    for gterm in set(gos.split(';')) - {''}:\n",
    "        rgo[gterm] = rgo.get(gterm, set())\n",
    "        rgo[gterm].add(gene)"
   ]
  },
  {
   "cell_type": "code",
   "execution_count": 8,
   "metadata": {},
   "outputs": [],
   "source": [
    "g = pd.read_table(sgd, sep='\\t', header=None)\n",
    "gn = g[g[1] == 'ORF'].set_index(3)[4].dropna().to_dict()\n",
    "gd = g[g[1] == 'ORF'].set_index(3)[15].dropna().to_dict()"
   ]
  },
  {
   "cell_type": "code",
   "execution_count": 9,
   "metadata": {},
   "outputs": [],
   "source": [
    "it = {}\n",
    "for l in open(biogrid):\n",
    "    g1, g2 = l.rstrip().split()\n",
    "    it[g1] = it.get(g1, 0)\n",
    "    it[g2] = it.get(g2, 0)\n",
    "    it[g1] += 1\n",
    "    it[g2] += 1"
   ]
  },
  {
   "cell_type": "code",
   "execution_count": 10,
   "metadata": {},
   "outputs": [],
   "source": [
    "gi = pd.read_table(biogrid_genetic)\n",
    "git = {}\n",
    "for g1, g2 in gi[(gi['interaction'] == 'negative') &\n",
    "                 (gi['count'] >= 2)][['gene1', 'gene2']].values:\n",
    "    git[g1] = git.get(g1, 0)\n",
    "    git[g2] = git.get(g2, 0)\n",
    "    git[g1] += 1\n",
    "    git[g2] += 1\n",
    "pit = {}\n",
    "for g1, g2 in gi[(gi['interaction'] == 'positive') &\n",
    "                 (gi['count'] >= 2)][['gene1', 'gene2']].values:\n",
    "    pit[g1] = pit.get(g1, 0)\n",
    "    pit[g2] = pit.get(g2, 0)\n",
    "    pit[g1] += 1\n",
    "    pit[g2] += 1"
   ]
  },
  {
   "cell_type": "code",
   "execution_count": 11,
   "metadata": {},
   "outputs": [
    {
     "name": "stdout",
     "output_type": "stream",
     "text": [
      "UWOP 4014\n",
      "Y55 4190\n",
      "S288C 4889\n",
      "YPS 4093\n",
      "\n",
      "total 3786\n"
     ]
    }
   ],
   "source": [
    "m = pd.read_table(scores, index_col=[0, 2, 1])\n",
    "m['phenotype'] = m['qvalue'] < 0.05\n",
    "genes = None\n",
    "for s in {x[0] for x in m.index}:\n",
    "    gs = {x[0] for x in m.loc[s].index}\n",
    "    if genes is None:\n",
    "        genes = gs\n",
    "    else:\n",
    "        genes = genes.intersection(gs)\n",
    "    print(s, len(gs))\n",
    "print('')\n",
    "print('total', len(genes))\n",
    "genes = sorted(genes)\n",
    "# p = m.reset_index().set_index('gene').loc[genes].groupby('condition').sum()['phenotype']\n",
    "# pgenes = m.loc[(slice(None), genes),].groupby('gene')['phenotype'].max()\n",
    "# pgenes = set(pgenes[pgenes == True].index)"
   ]
  },
  {
   "cell_type": "code",
   "execution_count": 12,
   "metadata": {},
   "outputs": [],
   "source": [
    "d = pd.read_table(dev, index_col=[4, 5, 1, 0])\n",
    "d = d.loc[(slice(None), slice(None), genes),]\n",
    "d = d.sort_index()"
   ]
  },
  {
   "cell_type": "code",
   "execution_count": 13,
   "metadata": {},
   "outputs": [],
   "source": [
    "strains = {y\n",
    "           for x in d.index\n",
    "           for y in x[:2]}"
   ]
  },
  {
   "cell_type": "code",
   "execution_count": 14,
   "metadata": {},
   "outputs": [],
   "source": [
    "d = d.reset_index()"
   ]
  },
  {
   "cell_type": "code",
   "execution_count": 15,
   "metadata": {},
   "outputs": [],
   "source": [
    "x1 = d.rename(columns={'strain1': 'strain',\n",
    "                       'phenotype1': 'phenotype',\n",
    "                       'strain2': 'other',\n",
    "                       'phenotype2': 'otherp'}\n",
    "             ).T.sort_index().T\n",
    "x2 = d.rename(columns={'strain2': 'strain',\n",
    "                       'phenotype2': 'phenotype',\n",
    "                       'strain1': 'other',\n",
    "                       'phenotype1': 'otherp'}\n",
    "             ).T.sort_index().T\n",
    "x = pd.concat([x1, x2]).reindex()\n",
    "\n",
    "y = x[(x['phenotype'])]"
   ]
  },
  {
   "cell_type": "code",
   "execution_count": 16,
   "metadata": {},
   "outputs": [],
   "source": [
    "e = y[(y['phenotype']) &\n",
    "      (y['qvalue'] < 0.01)].set_index(['gene',\n",
    "                                       'condition'])\n",
    "w = (e.groupby('gene')['phenotype'].count() /\n",
    "     (e.groupby('gene')['phenotype'].count() +\n",
    "      y[(y['phenotype']) &\n",
    "        (y['otherp']) &\n",
    "        (y['qvalue'] >=  0.01)].groupby('gene')['phenotype'].count()))\n",
    "w[np.isnan(w)] = 0"
   ]
  },
  {
   "cell_type": "code",
   "execution_count": 17,
   "metadata": {},
   "outputs": [],
   "source": [
    "e = y[(y['phenotype']) &\n",
    "      (y['qvalue'] < 0.01)].set_index(['gene',\n",
    "                                       'condition'])\n",
    "w1 = (e.groupby('gene')['phenotype'].count() /\n",
    "     (y[(y['phenotype']) &\n",
    "        (y['qvalue'] >=  0.01)].groupby('gene')['phenotype'].count()))\n",
    "w1[np.isnan(w1)] = 0"
   ]
  },
  {
   "cell_type": "code",
   "execution_count": 18,
   "metadata": {},
   "outputs": [
    {
     "data": {
      "image/png": "[encoded data removed]",
      "text/plain": [
       "<Figure size 324x216 with 1 Axes>"
      ]
     },
     "metadata": {
      "needs_background": "light"
     },
     "output_type": "display_data"
    }
   ],
   "source": [
    "plt.figure(figsize=(4.5, 3))\n",
    "\n",
    "x = w\n",
    "idx = x.sort_values(ascending=False).index\n",
    "\n",
    "xx = x.sort_values(ascending=False).to_frame()\n",
    "xx['rank'] = range(xx.shape[0])\n",
    "\n",
    "obj = plt.plot(xx['rank'],\n",
    "               xx['phenotype'],\n",
    "               'k.')\n",
    "\n",
    "texts = [plt.text(i, y, gn.get(k, k),\n",
    "                  ha='center',\n",
    "                  va='center',\n",
    "                  size=8)\n",
    "         for i, (k, y) in enumerate(x.sort_values(ascending=False).head(10).iteritems())]\n",
    "# iterations = adjust_text(texts,\n",
    "#                          arrowprops=dict(arrowstyle='-',\n",
    "#                                          color='k'),\n",
    "#                          force_text=0.1,\n",
    "#                          #add_objects=obj\n",
    "#                         )\n",
    "\n",
    "# plt.gca().invert_yaxis()\n",
    "\n",
    "# plt.axhline(0.6,\n",
    "#             color='grey',\n",
    "#             ls='dashed')\n",
    "\n",
    "plt.xlabel('Genes rank')\n",
    "plt.xticks([])\n",
    "# plt.ylim(-0.01, 70)\n",
    "plt.ylabel('Exclusive phenotypes propensity\\n(across all strains)')\n",
    "\n",
    "plt.savefig('exclusiveness_all.png',\n",
    "            dpi=300, bbox_inches='tight',\n",
    "            transparent=True)\n",
    "plt.savefig('exclusiveness_all.svg',\n",
    "            dpi=300, bbox_inches='tight',\n",
    "            transparent=True);"
   ]
  },
  {
   "cell_type": "code",
   "execution_count": 19,
   "metadata": {},
   "outputs": [
    {
     "data": {
      "image/png": "[encoded data removed]",
      "text/plain": [
       "<Figure size 324x216 with 1 Axes>"
      ]
     },
     "metadata": {
      "needs_background": "light"
     },
     "output_type": "display_data"
    }
   ],
   "source": [
    "plt.figure(figsize=(4.5, 3))\n",
    "\n",
    "x = w1\n",
    "idx = x.sort_values(ascending=False).index\n",
    "\n",
    "xx = x.sort_values(ascending=False).to_frame()\n",
    "xx['rank'] = range(xx.shape[0])\n",
    "\n",
    "obj = plt.plot(xx['rank'],\n",
    "               xx['phenotype'],\n",
    "               'k.')\n",
    "\n",
    "texts = [plt.text(i, y, gn.get(k, k),\n",
    "                  ha='center',\n",
    "                  va='center',\n",
    "                  size=8)\n",
    "         for i, (k, y) in enumerate(x.sort_values(ascending=False).head(10).iteritems())]\n",
    "# iterations = adjust_text(texts,\n",
    "#                          arrowprops=dict(arrowstyle='-',\n",
    "#                                          color='k'),\n",
    "#                          force_text=0.1,\n",
    "#                          #add_objects=obj\n",
    "#                         )\n",
    "\n",
    "# plt.gca().invert_yaxis()\n",
    "\n",
    "# plt.axhline(0.6,\n",
    "#             color='grey',\n",
    "#             ls='dashed')\n",
    "\n",
    "plt.xlabel('Genes rank')\n",
    "plt.xticks([])\n",
    "# plt.ylim(-0.01, 70)\n",
    "plt.ylabel('Exclusive phenotypes propensity\\n(across all strains)')\n",
    "\n",
    "plt.savefig('exclusiveness_all_alternative.png',\n",
    "            dpi=300, bbox_inches='tight',\n",
    "            transparent=True)\n",
    "plt.savefig('exclusiveness_all_alternative.svg',\n",
    "            dpi=300, bbox_inches='tight',\n",
    "            transparent=True);"
   ]
  },
  {
   "cell_type": "code",
   "execution_count": 20,
   "metadata": {},
   "outputs": [
    {
     "name": "stdout",
     "output_type": "stream",
     "text": [
      "fisher module not installed.  Falling back on scipy.stats.fisher_exact\n"
     ]
    },
    {
     "data": {
      "text/html": [
       "<div>\n",
       "<style scoped>\n",
       "    .dataframe tbody tr th:only-of-type {\n",
       "        vertical-align: middle;\n",
       "    }\n",
       "\n",
       "    .dataframe tbody tr th {\n",
       "        vertical-align: top;\n",
       "    }\n",
       "\n",
       "    .dataframe thead th {\n",
       "        text-align: right;\n",
       "    }\n",
       "</style>\n",
       "<table border=\"1\" class=\"dataframe\">\n",
       "  <thead>\n",
       "    <tr style=\"text-align: right;\">\n",
       "      <th></th>\n",
       "      <th>go</th>\n",
       "      <th>go_namespace</th>\n",
       "      <th>go_depth</th>\n",
       "      <th>go_name</th>\n",
       "      <th>ratio_in_study</th>\n",
       "      <th>ratio_in_population</th>\n",
       "      <th>pvalue</th>\n",
       "      <th>qvalue</th>\n",
       "    </tr>\n",
       "  </thead>\n",
       "  <tbody>\n",
       "  </tbody>\n",
       "</table>\n",
       "</div>"
      ],
      "text/plain": [
       "Empty DataFrame\n",
       "Columns: [go, go_namespace, go_depth, go_name, ratio_in_study, ratio_in_population, pvalue, qvalue]\n",
       "Index: []"
      ]
     },
     "execution_count": 20,
     "metadata": {},
     "output_type": "execute_result"
    }
   ],
   "source": [
    "go_enrich(set(w[w > 0].index),\n",
    "          set(genes),\n",
    "          obodag=obodag, go=go)"
   ]
  },
  {
   "cell_type": "code",
   "execution_count": 21,
   "metadata": {},
   "outputs": [],
   "source": [
    "it = pd.Series(it)\n",
    "git = pd.Series(git)\n",
    "pit = pd.Series(pit)\n",
    "\n",
    "# it = it / it.max()\n",
    "# git = git / git.max()\n",
    "# pit = pit / pit.max()"
   ]
  },
  {
   "cell_type": "code",
   "execution_count": 22,
   "metadata": {},
   "outputs": [],
   "source": [
    "res = []\n",
    "for df, name in zip([it,\n",
    "                     git, pit],\n",
    "                    ['biogrid',\n",
    "                     'genetic-negative',\n",
    "                     'genetic-positive']):\n",
    "    res.append(compare(w, df, name=name,\n",
    "                       threshold=0))\n",
    "r = pd.concat(res)"
   ]
  },
  {
   "cell_type": "code",
   "execution_count": 23,
   "metadata": {},
   "outputs": [
    {
     "data": {
      "image/png": "[encoded data removed]",
      "text/plain": [
       "<Figure size 1512x504 with 3 Axes>"
      ]
     },
     "metadata": {
      "needs_background": "light"
     },
     "output_type": "display_data"
    }
   ],
   "source": [
    "plt.figure(figsize=(21, 7))\n",
    "\n",
    "for i, name in enumerate(r['name'].unique()):\n",
    "    plt.subplot(1, 3, i+1)\n",
    "    \n",
    "    sns.boxplot(data=r[r['name'] == name],\n",
    "                x='v',\n",
    "                y='set',\n",
    "                palette=[sns.xkcd_rgb['pale red']] +\n",
    "                        [sns.xkcd_rgb['light grey']] * 10)\n",
    "    \n",
    "    plt.title(name);"
   ]
  },
  {
   "cell_type": "code",
   "execution_count": 24,
   "metadata": {},
   "outputs": [
    {
     "name": "stderr",
     "output_type": "stream",
     "text": [
      "/usr/local/lib/python3.6/dist-packages/scipy/stats/stats.py:1713: FutureWarning: Using a non-tuple sequence for multidimensional indexing is deprecated; use `arr[tuple(seq)]` instead of `arr[seq]`. In the future this will be interpreted as an array index, `arr[np.array(seq)]`, which will result either in an error or a different result.\n",
      "  return np.add.reduce(sorted[indexer] * weights, axis=axis) / sumval\n"
     ]
    },
    {
     "data": {
      "image/png": "[encoded data removed]",
      "text/plain": [
       "<Figure size 648x648 with 3 Axes>"
      ]
     },
     "metadata": {
      "needs_background": "light"
     },
     "output_type": "display_data"
    }
   ],
   "source": [
    "plt.figure(figsize=(9, 9))\n",
    "\n",
    "for i, name in enumerate(r['name'].unique()):\n",
    "    plt.subplot(3, 1, i+1)\n",
    "    \n",
    "    sns.kdeplot(r[(r['name'] == name) &\n",
    "                  (r['set'] == 'real')]['v'],\n",
    "                color='r',\n",
    "                label=name,\n",
    "                lw=3)\n",
    "    for x in r[(r['name'] == name) &\n",
    "               (r['set'] != 'real')]['set'].unique():\n",
    "        sns.kdeplot(r[(r['name'] == name) &\n",
    "                      (r['set'] == x)]['v'],\n",
    "                    color=sns.xkcd_rgb['grey'],\n",
    "                    label='_',\n",
    "                    zorder=0)\n",
    "    \n",
    "#     plt.xlim(-0.05, 1.05)\n",
    "    plt.yticks([])\n",
    "    \n",
    "sns.despine(left=True)"
   ]
  },
  {
   "cell_type": "code",
   "execution_count": 25,
   "metadata": {},
   "outputs": [
    {
     "name": "stderr",
     "output_type": "stream",
     "text": [
      "/usr/local/lib/python3.6/dist-packages/scipy/stats/stats.py:1713: FutureWarning: Using a non-tuple sequence for multidimensional indexing is deprecated; use `arr[tuple(seq)]` instead of `arr[seq]`. In the future this will be interpreted as an array index, `arr[np.array(seq)]`, which will result either in an error or a different result.\n",
      "  return np.add.reduce(sorted[indexer] * weights, axis=axis) / sumval\n"
     ]
    },
    {
     "data": {
      "image/png": "[encoded data removed]",
      "text/plain": [
       "<Figure size 504x180 with 1 Axes>"
      ]
     },
     "metadata": {
      "needs_background": "light"
     },
     "output_type": "display_data"
    }
   ],
   "source": [
    "plt.figure(figsize=(7, 2.5))\n",
    "\n",
    "name = 'biogrid'\n",
    "\n",
    "sns.kdeplot(r[(r['name'] == name) &\n",
    "              (r['set'] == 'real')]['v'],\n",
    "            color='r',\n",
    "            label=name,\n",
    "            lw=3)\n",
    "for x in r[(r['name'] == name) &\n",
    "           (r['set'] != 'real')]['set'].unique():\n",
    "    sns.kdeplot(r[(r['name'] == name) &\n",
    "                  (r['set'] == x)]['v'],\n",
    "                color=sns.xkcd_rgb['light grey'],\n",
    "                label='_',\n",
    "                alpha=1,\n",
    "                zorder=0)\n",
    "\n",
    "# plt.xlim(-0.05, 0.405)\n",
    "plt.yticks([])\n",
    "    \n",
    "sns.despine(left=True)"
   ]
  },
  {
   "cell_type": "code",
   "execution_count": 26,
   "metadata": {},
   "outputs": [
    {
     "data": {
      "image/png": "[encoded data removed]",
      "text/plain": [
       "<Figure size 432x144 with 1 Axes>"
      ]
     },
     "metadata": {
      "needs_background": "light"
     },
     "output_type": "display_data"
    }
   ],
   "source": [
    "plt.figure(figsize=(6, 2))\n",
    "\n",
    "name = 'biogrid'\n",
    "sns.boxplot(data=r[(r['name'] == name) &\n",
    "                   (r['set'].isin(['real',\n",
    "                                   'random']))],\n",
    "            x='v',\n",
    "            y='set',\n",
    "            palette=[sns.xkcd_rgb['pale red']] +\n",
    "                    [sns.xkcd_rgb['light grey']],\n",
    "            notch=True,\n",
    "            showfliers=False,\n",
    "            bootstrap=1000\n",
    "           )\n",
    "    \n",
    "plt.ylabel('Genes')\n",
    "plt.xlabel('Physical interactions\\n(Biogrid)')\n",
    "plt.yticks([0, 1],\n",
    "           ['High exclusiveness',\n",
    "            'All others'])\n",
    "\n",
    "plt.savefig('biogrid.png',\n",
    "            dpi=300, bbox_inches='tight',\n",
    "            transparent=True)\n",
    "plt.savefig('biogrid.svg',\n",
    "            dpi=300, bbox_inches='tight',\n",
    "            transparent=True);"
   ]
  },
  {
   "cell_type": "code",
   "execution_count": 27,
   "metadata": {},
   "outputs": [
    {
     "data": {
      "text/plain": [
       "Ks_2sampResult(statistic=0.2648534837211035, pvalue=5.1859275273974734e-11)"
      ]
     },
     "execution_count": 27,
     "metadata": {},
     "output_type": "execute_result"
    }
   ],
   "source": [
    "stats.ks_2samp(r[(r['name'] == name) &\n",
    "                   (r['set'] == 'real')]['v'],\n",
    "               r[(r['name'] == name) &\n",
    "                   (r['set'] == 'random')]['v'])"
   ]
  },
  {
   "cell_type": "code",
   "execution_count": 28,
   "metadata": {},
   "outputs": [
    {
     "data": {
      "text/plain": [
       "0.4944370871542943"
      ]
     },
     "execution_count": 28,
     "metadata": {},
     "output_type": "execute_result"
    }
   ],
   "source": [
    "cohens(r[(r['name'] == name) &\n",
    "         (r['set'] == 'real')]['v'],\n",
    "       r[(r['name'] == name) &\n",
    "         (r['set'] == 'random')]['v'])"
   ]
  },
  {
   "cell_type": "code",
   "execution_count": 29,
   "metadata": {},
   "outputs": [
    {
     "data": {
      "image/png": "[encoded data removed]",
      "text/plain": [
       "<Figure size 432x144 with 1 Axes>"
      ]
     },
     "metadata": {
      "needs_background": "light"
     },
     "output_type": "display_data"
    }
   ],
   "source": [
    "plt.figure(figsize=(6, 2))\n",
    "\n",
    "name = 'genetic-negative'\n",
    "sns.boxplot(data=r[(r['name'] == name) &\n",
    "                   (r['set'].isin(['real',\n",
    "                                   'random']))],\n",
    "            x='v',\n",
    "            y='set',\n",
    "            palette=[sns.xkcd_rgb['pale red']] +\n",
    "                    [sns.xkcd_rgb['light grey']],\n",
    "            notch=True,\n",
    "            showfliers=False,\n",
    "            bootstrap=1000\n",
    "           )\n",
    "    \n",
    "plt.ylabel('Genes')\n",
    "plt.xlabel('Negative genetic interactions\\n(Biogrid)')\n",
    "plt.yticks([0, 1],\n",
    "           ['High exclusiveness',\n",
    "            'All others'])\n",
    "\n",
    "plt.savefig('biogrid-genetic.png',\n",
    "            dpi=300, bbox_inches='tight',\n",
    "            transparent=True)\n",
    "plt.savefig('biogrid-genetic.svg',\n",
    "            dpi=300, bbox_inches='tight',\n",
    "            transparent=True);"
   ]
  },
  {
   "cell_type": "code",
   "execution_count": 30,
   "metadata": {},
   "outputs": [
    {
     "data": {
      "text/plain": [
       "Ks_2sampResult(statistic=0.2562848507145073, pvalue=1.0070055114898762e-09)"
      ]
     },
     "execution_count": 30,
     "metadata": {},
     "output_type": "execute_result"
    }
   ],
   "source": [
    "stats.ks_2samp(r[(r['name'] == name) &\n",
    "                   (r['set'] == 'real')]['v'],\n",
    "               r[(r['name'] == name) &\n",
    "                   (r['set'] == 'random')]['v'])"
   ]
  },
  {
   "cell_type": "code",
   "execution_count": 31,
   "metadata": {},
   "outputs": [
    {
     "data": {
      "text/plain": [
       "0.5330652154527096"
      ]
     },
     "execution_count": 31,
     "metadata": {},
     "output_type": "execute_result"
    }
   ],
   "source": [
    "cohens(r[(r['name'] == name) &\n",
    "         (r['set'] == 'real')]['v'],\n",
    "       r[(r['name'] == name) &\n",
    "         (r['set'] == 'random')]['v'])"
   ]
  },
  {
   "cell_type": "code",
   "execution_count": 32,
   "metadata": {},
   "outputs": [
    {
     "data": {
      "image/png": "[encoded data removed]",
      "text/plain": [
       "<Figure size 324x144 with 1 Axes>"
      ]
     },
     "metadata": {
      "needs_background": "light"
     },
     "output_type": "display_data"
    }
   ],
   "source": [
    "plt.figure(figsize=(4.5, 2))\n",
    "\n",
    "names = ['genetic-negative',\n",
    "         'biogrid']\n",
    "sns.boxplot(data=r[(r['name'].isin(names)) &\n",
    "                   (r['set'].isin(['real',\n",
    "                                   'random']))],\n",
    "            x='v',\n",
    "            y='name',\n",
    "            hue='set',\n",
    "            palette=[sns.xkcd_rgb['pale red']] +\n",
    "                    [sns.xkcd_rgb['light grey']],\n",
    "            notch=True,\n",
    "            showfliers=False,\n",
    "            bootstrap=1000\n",
    "           )\n",
    "    \n",
    "plt.ylabel('')\n",
    "plt.xlabel('# interactions\\n(Biogrid)')\n",
    "plt.yticks([0, 1],\n",
    "           ['Genetic\\ninteractions\\n(negative)',\n",
    "            'Physical\\ninteractions'])\n",
    "\n",
    "l = plt.legend(title='Genes')\n",
    "l.get_texts()[0].set_text('High exclusiveness')\n",
    "l.get_texts()[1].set_text('All others')\n",
    "\n",
    "plt.savefig('biogrid-both.png',\n",
    "            dpi=300, bbox_inches='tight',\n",
    "            transparent=True)\n",
    "plt.savefig('biogrid-both.svg',\n",
    "            dpi=300, bbox_inches='tight',\n",
    "            transparent=True);"
   ]
  },
  {
   "cell_type": "code",
   "execution_count": 33,
   "metadata": {},
   "outputs": [],
   "source": [
    "res = []\n",
    "for df, name in zip([it,\n",
    "                     git, pit],\n",
    "                    ['biogrid',\n",
    "                     'genetic-negative',\n",
    "                     'genetic-positive']):\n",
    "    res.append(compare(w1, df, name=name,\n",
    "                       threshold=0))\n",
    "r = pd.concat(res)"
   ]
  },
  {
   "cell_type": "code",
   "execution_count": 34,
   "metadata": {},
   "outputs": [
    {
     "data": {
      "text/plain": [
       "Ks_2sampResult(statistic=0.21664051465590028, pvalue=5.5196395885024884e-17)"
      ]
     },
     "execution_count": 34,
     "metadata": {},
     "output_type": "execute_result"
    }
   ],
   "source": [
    "name = 'biogrid'\n",
    "stats.ks_2samp(r[(r['name'] == name) &\n",
    "                   (r['set'] == 'real')]['v'],\n",
    "               r[(r['name'] == name) &\n",
    "                   (r['set'] == 'random')]['v'])"
   ]
  },
  {
   "cell_type": "code",
   "execution_count": 35,
   "metadata": {},
   "outputs": [
    {
     "data": {
      "text/plain": [
       "0.47744855994922725"
      ]
     },
     "execution_count": 35,
     "metadata": {},
     "output_type": "execute_result"
    }
   ],
   "source": [
    "cohens(r[(r['name'] == name) &\n",
    "         (r['set'] == 'real')]['v'],\n",
    "       r[(r['name'] == name) &\n",
    "         (r['set'] == 'random')]['v'])"
   ]
  },
  {
   "cell_type": "code",
   "execution_count": 36,
   "metadata": {},
   "outputs": [
    {
     "data": {
      "text/plain": [
       "Ks_2sampResult(statistic=0.20113454920512142, pvalue=2.4701778220464597e-13)"
      ]
     },
     "execution_count": 36,
     "metadata": {},
     "output_type": "execute_result"
    }
   ],
   "source": [
    "name = 'genetic-negative'\n",
    "stats.ks_2samp(r[(r['name'] == name) &\n",
    "                   (r['set'] == 'real')]['v'],\n",
    "               r[(r['name'] == name) &\n",
    "                   (r['set'] == 'random')]['v'])"
   ]
  },
  {
   "cell_type": "code",
   "execution_count": 37,
   "metadata": {},
   "outputs": [
    {
     "data": {
      "text/plain": [
       "0.4876622925290878"
      ]
     },
     "execution_count": 37,
     "metadata": {},
     "output_type": "execute_result"
    }
   ],
   "source": [
    "cohens(r[(r['name'] == name) &\n",
    "         (r['set'] == 'real')]['v'],\n",
    "       r[(r['name'] == name) &\n",
    "         (r['set'] == 'random')]['v'])"
   ]
  },
  {
   "cell_type": "code",
   "execution_count": 38,
   "metadata": {},
   "outputs": [
    {
     "data": {
      "image/png": "[encoded data removed]",
      "text/plain": [
       "<Figure size 324x144 with 1 Axes>"
      ]
     },
     "metadata": {
      "needs_background": "light"
     },
     "output_type": "display_data"
    }
   ],
   "source": [
    "plt.figure(figsize=(4.5, 2))\n",
    "\n",
    "names = ['genetic-negative',\n",
    "         'biogrid']\n",
    "sns.boxplot(data=r[(r['name'].isin(names)) &\n",
    "                   (r['set'].isin(['real',\n",
    "                                   'random']))],\n",
    "            x='v',\n",
    "            y='name',\n",
    "            hue='set',\n",
    "            palette=[sns.xkcd_rgb['pale red']] +\n",
    "                    [sns.xkcd_rgb['light grey']],\n",
    "            notch=True,\n",
    "            showfliers=False,\n",
    "            bootstrap=1000\n",
    "           )\n",
    "    \n",
    "plt.ylabel('')\n",
    "plt.xlabel('# interactions\\n(Biogrid)')\n",
    "plt.yticks([0, 1],\n",
    "           ['Genetic\\ninteractions\\n(negative)',\n",
    "            'Physical\\ninteractions'])\n",
    "\n",
    "l = plt.legend(title='Genes')\n",
    "l.get_texts()[0].set_text('High exclusiveness')\n",
    "l.get_texts()[1].set_text('All others')\n",
    "\n",
    "plt.savefig('biogrid-both-alternative.png',\n",
    "            dpi=300, bbox_inches='tight',\n",
    "            transparent=True)\n",
    "plt.savefig('biogrid-both-alternative.svg',\n",
    "            dpi=300, bbox_inches='tight',\n",
    "            transparent=True);"
   ]
  },
  {
   "cell_type": "code",
   "execution_count": 41,
   "metadata": {},
   "outputs": [],
   "source": [
    "w.name = 'exclusiveness'\n",
    "w1.name = 'exclusiveness-alternative'\n",
    "x = w.to_frame().join(w1.to_frame(), how='outer')"
   ]
  },
  {
   "cell_type": "code",
   "execution_count": 43,
   "metadata": {},
   "outputs": [],
   "source": [
    "x.sort_values('exclusiveness', ascending=False).to_csv('exclusiveness.tsv')"
   ]
  }
 ],
 "metadata": {
  "kernelspec": {
   "display_name": "Python 3",
   "language": "python",
   "name": "python3"
  },
  "language_info": {
   "codemirror_mode": {
    "name": "ipython",
    "version": 3
   },
   "file_extension": ".py",
   "mimetype": "text/x-python",
   "name": "python",
   "nbconvert_exporter": "python",
   "pygments_lexer": "ipython3",
   "version": "3.6.6"
  }
 },
 "nbformat": 4,
 "nbformat_minor": 2
}
