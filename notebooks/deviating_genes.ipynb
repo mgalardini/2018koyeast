{
 "cells": [
  {
   "cell_type": "code",
   "execution_count": 1,
   "metadata": {},
   "outputs": [],
   "source": [
    "scores = '../out/ko_scores.txt'\n",
    "dev = '../out/deviating.tsv'\n",
    "sgd = '../out/SGD_features.tab'\n",
    "biogrid = '../out/biogrid.all.txt'\n",
    "biogrid_genetic = '../out/biogrid.genetic.txt'\n",
    "obo = '../out/SGD_slim.obo'\n",
    "gaf = '../out/SGD_slim.tsv'\n",
    "threshold = 0.5"
   ]
  },
  {
   "cell_type": "code",
   "execution_count": 2,
   "metadata": {},
   "outputs": [],
   "source": [
    "%matplotlib inline\n",
    "\n",
    "import seaborn as sns\n",
    "import matplotlib.pyplot as plt\n",
    "from adjustText import adjust_text\n",
    "\n",
    "sns.set_style('white')\n",
    "\n",
    "plt.rc('font', size=12)"
   ]
  },
  {
   "cell_type": "code",
   "execution_count": 3,
   "metadata": {},
   "outputs": [],
   "source": [
    "import itertools\n",
    "import numpy as np\n",
    "import pandas as pd\n",
    "from scipy import stats\n",
    "import statsmodels.api as sm\n",
    "from goatools.obo_parser import GODag\n",
    "from goatools.go_enrichment import GOEnrichmentStudy"
   ]
  },
  {
   "cell_type": "code",
   "execution_count": 4,
   "metadata": {},
   "outputs": [],
   "source": [
    "def cohens(x, y):\n",
    "    r\"\"\"Effect size metric through Cohen's *d* metric\n",
    "    :param x: first vector\n",
    "    :param y: second vector\n",
    "    :return: absolute effect size value\n",
    "    The Cohen's effect size *d* is defined as the difference\n",
    "    between two means divided by a standard deviation of the data.\n",
    "    .. math::\n",
    "        d = \\frac{\\bar{x}_1 - \\bar{x}_2}{s}\n",
    "    For two independent samples, the *pooled standard deviation* is used\n",
    "    instead, which is defined as:\n",
    "    .. math::\n",
    "        s = \\sqrt{  \\frac{(n_1-1)s_1^2 + (n_2-1)s_2^2}{n_1+n_2-2} }\n",
    "    A Cohen's *d* is frequently used in estimating sample sizes for\n",
    "    statistical testing: a lower *d* value indicates the necessity of\n",
    "    larger sample sizes, and vice versa.\n",
    "    .. note:: we return the absolute value\n",
    "    :references: https://en.wikipedia.org/wiki/Effect_size\n",
    "    \"\"\"\n",
    "    x = np.array(x)\n",
    "    y = np.array(y)\n",
    "\n",
    "    Nx = len(x) - 1.  # note the dot to cast to float\n",
    "    Ny = len(y) - 1.\n",
    "    # mean difference:\n",
    "    md = np.abs(x.mean() - y.mean())\n",
    "    # here, we want same as in R that is unbiased variance\n",
    "    # so we use ddof = 1\n",
    "    xv = x.var(ddof=1)\n",
    "    yv = y.var(ddof=1)\n",
    "    csd = Nx * xv + Ny * yv\n",
    "    csd /= Nx + Ny  # make sure this is float\n",
    "    csd = np.sqrt(csd)\n",
    "\n",
    "    return md / csd"
   ]
  },
  {
   "cell_type": "code",
   "execution_count": 5,
   "metadata": {},
   "outputs": [],
   "source": [
    "def compare(w, df,\n",
    "            iterations=10,\n",
    "            name='',\n",
    "            threshold=0.1):\n",
    "    idx = df.index.intersection(w.index)\n",
    "\n",
    "    y = w.loc[idx]\n",
    "    df = df.loc[idx]\n",
    "\n",
    "    res = []\n",
    "    for x in df.loc[y[y > threshold].index].values:\n",
    "        res.append((name, 'real', x))\n",
    "    for i in range(iterations):\n",
    "        for x in df.loc[y[y <= threshold].sample(n=y[y > threshold].shape[0],\n",
    "                                                 replace=False).index]:\n",
    "            res.append((name, 'random%d' % i, x))\n",
    "    for x in df.loc[y[y <= threshold].index]:\n",
    "        res.append((name, 'random', x))\n",
    "    r = pd.DataFrame(res,\n",
    "                     columns=['name', 'set', 'v'])\n",
    "\n",
    "    return r"
   ]
  },
  {
   "cell_type": "code",
   "execution_count": 6,
   "metadata": {},
   "outputs": [],
   "source": [
    "def go_enrich(pop, study,\n",
    "              go, obodag,\n",
    "              pvalue=0.01):\n",
    "    res = []\n",
    "    goeaobj = GOEnrichmentStudy(pop,\n",
    "                                go, obodag,\n",
    "                                propagate_counts=False,\n",
    "                                alpha=0.05,\n",
    "                                methods=['fdr_bh'],\n",
    "                                log=None)\n",
    "    goe = goeaobj.run_study(study,\n",
    "                            log=None)\n",
    "    for xx in goe:\n",
    "        res.append([xx.goterm.id,\n",
    "                    xx.goterm.namespace,\n",
    "                    xx.goterm.depth,\n",
    "                    xx.goterm.name,\n",
    "                    '%d/%d' % xx.ratio_in_study,\n",
    "                    '%d/%d' % xx.ratio_in_pop,\n",
    "                    xx.p_uncorrected,\n",
    "                    xx.p_fdr_bh])\n",
    "    g = pd.DataFrame(res,\n",
    "                     columns=['go',\n",
    "                              'go_namespace',\n",
    "                              'go_depth',\n",
    "                              'go_name',\n",
    "                              'ratio_in_study',\n",
    "                              'ratio_in_population',\n",
    "                              'pvalue',\n",
    "                              'qvalue'])\n",
    "    g = g[g['qvalue'] <= pvalue]\n",
    "    return g"
   ]
  },
  {
   "cell_type": "code",
   "execution_count": 7,
   "metadata": {},
   "outputs": [
    {
     "name": "stdout",
     "output_type": "stream",
     "text": [
      "../out/SGD_slim.obo: fmt(1.2) rel(None) 265 GO Terms\n"
     ]
    }
   ],
   "source": [
    "obodag = GODag(obo)\n",
    "go = {}\n",
    "rgo = {}\n",
    "for l in open(gaf):\n",
    "    gene, gos = l.rstrip().split()\n",
    "    go[gene] = set(gos.split(';')) - {''}\n",
    "    for gterm in set(gos.split(';')) - {''}:\n",
    "        rgo[gterm] = rgo.get(gterm, set())\n",
    "        rgo[gterm].add(gene)"
   ]
  },
  {
   "cell_type": "code",
   "execution_count": 8,
   "metadata": {},
   "outputs": [
    {
     "name": "stderr",
     "output_type": "stream",
     "text": [
      "/usr/local/lib/python3.7/dist-packages/ipykernel_launcher.py:1: FutureWarning: read_table is deprecated, use read_csv instead.\n",
      "  \"\"\"Entry point for launching an IPython kernel.\n"
     ]
    }
   ],
   "source": [
    "g = pd.read_table(sgd, sep='\\t', header=None)\n",
    "gn = g[g[1] == 'ORF'].set_index(3)[4].dropna().to_dict()\n",
    "gd = g[g[1] == 'ORF'].set_index(3)[15].dropna().to_dict()"
   ]
  },
  {
   "cell_type": "code",
   "execution_count": 9,
   "metadata": {},
   "outputs": [],
   "source": [
    "it = {}\n",
    "for l in open(biogrid):\n",
    "    g1, g2 = l.rstrip().split()\n",
    "    it[g1] = it.get(g1, 0)\n",
    "    it[g2] = it.get(g2, 0)\n",
    "    it[g1] += 1\n",
    "    it[g2] += 1"
   ]
  },
  {
   "cell_type": "code",
   "execution_count": 10,
   "metadata": {},
   "outputs": [
    {
     "name": "stderr",
     "output_type": "stream",
     "text": [
      "/usr/local/lib/python3.7/dist-packages/ipykernel_launcher.py:1: FutureWarning: read_table is deprecated, use read_csv instead, passing sep='\\t'.\n",
      "  \"\"\"Entry point for launching an IPython kernel.\n"
     ]
    }
   ],
   "source": [
    "gi = pd.read_table(biogrid_genetic)\n",
    "git = {}\n",
    "for g1, g2 in gi[(gi['interaction'] == 'negative') &\n",
    "                 (gi['count'] >= 2)][['gene1', 'gene2']].values:\n",
    "    git[g1] = git.get(g1, 0)\n",
    "    git[g2] = git.get(g2, 0)\n",
    "    git[g1] += 1\n",
    "    git[g2] += 1\n",
    "pit = {}\n",
    "for g1, g2 in gi[(gi['interaction'] == 'positive') &\n",
    "                 (gi['count'] >= 2)][['gene1', 'gene2']].values:\n",
    "    pit[g1] = pit.get(g1, 0)\n",
    "    pit[g2] = pit.get(g2, 0)\n",
    "    pit[g1] += 1\n",
    "    pit[g2] += 1"
   ]
  },
  {
   "cell_type": "code",
   "execution_count": 11,
   "metadata": {},
   "outputs": [
    {
     "name": "stderr",
     "output_type": "stream",
     "text": [
      "/usr/local/lib/python3.7/dist-packages/ipykernel_launcher.py:1: FutureWarning: read_table is deprecated, use read_csv instead, passing sep='\\t'.\n",
      "  \"\"\"Entry point for launching an IPython kernel.\n"
     ]
    },
    {
     "name": "stdout",
     "output_type": "stream",
     "text": [
      "Y55 4190\n",
      "YPS 4093\n",
      "S288C 4889\n",
      "UWOP 4014\n",
      "\n",
      "total 3786\n"
     ]
    }
   ],
   "source": [
    "m = pd.read_table(scores, index_col=[0, 2, 1])\n",
    "m['phenotype'] = m['qvalue'] < 0.05\n",
    "genes = None\n",
    "for s in {x[0] for x in m.index}:\n",
    "    gs = {x[0] for x in m.loc[s].index}\n",
    "    if genes is None:\n",
    "        genes = gs\n",
    "    else:\n",
    "        genes = genes.intersection(gs)\n",
    "    print(s, len(gs))\n",
    "print('')\n",
    "print('total', len(genes))\n",
    "genes = sorted(genes)\n",
    "m = m.loc[(slice(None), genes),]\n",
    "# p = m.reset_index().set_index('gene').loc[genes].groupby('condition').sum()['phenotype']\n",
    "# pgenes = m.loc[(slice(None), genes),].groupby('gene')['phenotype'].max()\n",
    "# pgenes = set(pgenes[pgenes == True].index)"
   ]
  },
  {
   "cell_type": "code",
   "execution_count": 12,
   "metadata": {},
   "outputs": [
    {
     "name": "stderr",
     "output_type": "stream",
     "text": [
      "/usr/local/lib/python3.7/dist-packages/ipykernel_launcher.py:1: FutureWarning: read_table is deprecated, use read_csv instead, passing sep='\\t'.\n",
      "  \"\"\"Entry point for launching an IPython kernel.\n"
     ]
    }
   ],
   "source": [
    "d = pd.read_table(dev, index_col=[4, 5, 1, 0])\n",
    "d = d.loc[(slice(None), slice(None), genes),]\n",
    "d = d.sort_index()"
   ]
  },
  {
   "cell_type": "code",
   "execution_count": 13,
   "metadata": {},
   "outputs": [],
   "source": [
    "strains = {y\n",
    "           for x in d.index\n",
    "           for y in x[:2]}"
   ]
  },
  {
   "cell_type": "code",
   "execution_count": 14,
   "metadata": {},
   "outputs": [],
   "source": [
    "d = d.reset_index()"
   ]
  },
  {
   "cell_type": "code",
   "execution_count": 15,
   "metadata": {},
   "outputs": [],
   "source": [
    "x1 = d.rename(columns={'strain1': 'strain',\n",
    "                       'phenotype1': 'phenotype',\n",
    "                       'strain2': 'other',\n",
    "                       'phenotype2': 'otherp'}\n",
    "             ).T.sort_index().T\n",
    "x2 = d.rename(columns={'strain2': 'strain',\n",
    "                       'phenotype2': 'phenotype',\n",
    "                       'strain1': 'other',\n",
    "                       'phenotype1': 'otherp'}\n",
    "             ).T.sort_index().T\n",
    "x = pd.concat([x1, x2]).reindex()\n",
    "\n",
    "y = x[(x['phenotype'])]"
   ]
  },
  {
   "cell_type": "code",
   "execution_count": 16,
   "metadata": {},
   "outputs": [],
   "source": [
    "e = y[(y['phenotype']) &\n",
    "      (y['qvalue'] < 0.01)].set_index(['gene',\n",
    "                                       'condition'])\n",
    "w = (e.groupby('gene')['phenotype'].count() /\n",
    "     (e.groupby('gene')['phenotype'].count() +\n",
    "      y[(y['phenotype']) &\n",
    "        (y['otherp']) &\n",
    "        (y['qvalue'] >=  0.01)].groupby('gene')['phenotype'].count()))\n",
    "w[np.isnan(w)] = 0"
   ]
  },
  {
   "cell_type": "code",
   "execution_count": 17,
   "metadata": {},
   "outputs": [],
   "source": [
    "e = y[(y['phenotype']) &\n",
    "      (y['qvalue'] < 0.01)].set_index(['gene',\n",
    "                                       'condition'])\n",
    "w1 = (e.groupby('gene')['phenotype'].count() /\n",
    "     (y[(y['phenotype']) &\n",
    "        (y['qvalue'] >=  0.01)].groupby('gene')['phenotype'].count()))\n",
    "w1[np.isnan(w1)] = 0"
   ]
  },
  {
   "cell_type": "code",
   "execution_count": 18,
   "metadata": {},
   "outputs": [
    {
     "data": {
      "image/png": "[encoded data removed]",
      "text/plain": [
       "<Figure size 324x216 with 1 Axes>"
      ]
     },
     "metadata": {
      "needs_background": "light"
     },
     "output_type": "display_data"
    }
   ],
   "source": [
    "plt.figure(figsize=(4.5, 3))\n",
    "\n",
    "x = w\n",
    "idx = x.sort_values(ascending=False).index\n",
    "\n",
    "xx = x.sort_values(ascending=False).to_frame()\n",
    "xx['rank'] = range(xx.shape[0])\n",
    "\n",
    "obj = plt.plot(xx['rank'],\n",
    "               xx['phenotype'],\n",
    "               'k.')\n",
    "\n",
    "texts = [plt.text(i, y, gn.get(k, k),\n",
    "                  ha='center',\n",
    "                  va='center',\n",
    "                  size=8)\n",
    "         for i, (k, y) in enumerate(x.sort_values(ascending=False).head(10).iteritems())]\n",
    "# iterations = adjust_text(texts,\n",
    "#                          arrowprops=dict(arrowstyle='-',\n",
    "#                                          color='k'),\n",
    "#                          force_text=0.1,\n",
    "#                          #add_objects=obj\n",
    "#                         )\n",
    "\n",
    "# plt.gca().invert_yaxis()\n",
    "\n",
    "# plt.axhline(0.6,\n",
    "#             color='grey',\n",
    "#             ls='dashed')\n",
    "\n",
    "plt.xlabel('Genes rank')\n",
    "plt.xticks([])\n",
    "# plt.ylim(-0.01, 70)\n",
    "plt.ylabel('Exclusive phenotypes propensity\\n(across all strains)')\n",
    "\n",
    "plt.savefig('exclusiveness_all.png',\n",
    "            dpi=300, bbox_inches='tight',\n",
    "            transparent=True)\n",
    "plt.savefig('exclusiveness_all.svg',\n",
    "            dpi=300, bbox_inches='tight',\n",
    "            transparent=True);"
   ]
  },
  {
   "cell_type": "code",
   "execution_count": 19,
   "metadata": {},
   "outputs": [
    {
     "name": "stdout",
     "output_type": "stream",
     "text": [
      "\n",
      "Load GOEA Gene Ontology Analysis ...\n",
      "fisher module not installed.  Falling back on scipy.stats.fisher_exact\n",
      "\n",
      "Run GOEA Gene Ontology Analysis: current study set of 242 IDs ...\n"
     ]
    },
    {
     "data": {
      "text/html": [
       "<div>\n",
       "<style scoped>\n",
       "    .dataframe tbody tr th:only-of-type {\n",
       "        vertical-align: middle;\n",
       "    }\n",
       "\n",
       "    .dataframe tbody tr th {\n",
       "        vertical-align: top;\n",
       "    }\n",
       "\n",
       "    .dataframe thead th {\n",
       "        text-align: right;\n",
       "    }\n",
       "</style>\n",
       "<table border=\"1\" class=\"dataframe\">\n",
       "  <thead>\n",
       "    <tr style=\"text-align: right;\">\n",
       "      <th></th>\n",
       "      <th>go</th>\n",
       "      <th>go_namespace</th>\n",
       "      <th>go_depth</th>\n",
       "      <th>go_name</th>\n",
       "      <th>ratio_in_study</th>\n",
       "      <th>ratio_in_population</th>\n",
       "      <th>pvalue</th>\n",
       "      <th>qvalue</th>\n",
       "    </tr>\n",
       "  </thead>\n",
       "  <tbody>\n",
       "    <tr>\n",
       "      <th>0</th>\n",
       "      <td>GO:0016197</td>\n",
       "      <td>biological_process</td>\n",
       "      <td>1</td>\n",
       "      <td>endosomal transport</td>\n",
       "      <td>13/242</td>\n",
       "      <td>62/3786</td>\n",
       "      <td>1.066429e-04</td>\n",
       "      <td>0.005688</td>\n",
       "    </tr>\n",
       "    <tr>\n",
       "      <th>1</th>\n",
       "      <td>GO:0007005</td>\n",
       "      <td>biological_process</td>\n",
       "      <td>1</td>\n",
       "      <td>mitochondrion organization</td>\n",
       "      <td>23/242</td>\n",
       "      <td>161/3786</td>\n",
       "      <td>1.961806e-04</td>\n",
       "      <td>0.007449</td>\n",
       "    </tr>\n",
       "    <tr>\n",
       "      <th>2</th>\n",
       "      <td>GO:0045333</td>\n",
       "      <td>biological_process</td>\n",
       "      <td>2</td>\n",
       "      <td>cellular respiration</td>\n",
       "      <td>11/242</td>\n",
       "      <td>50/3786</td>\n",
       "      <td>2.327869e-04</td>\n",
       "      <td>0.007449</td>\n",
       "    </tr>\n",
       "    <tr>\n",
       "      <th>3</th>\n",
       "      <td>GO:0071554</td>\n",
       "      <td>biological_process</td>\n",
       "      <td>1</td>\n",
       "      <td>cell wall organization or biogenesis</td>\n",
       "      <td>20/242</td>\n",
       "      <td>135/3786</td>\n",
       "      <td>4.032130e-04</td>\n",
       "      <td>0.009241</td>\n",
       "    </tr>\n",
       "    <tr>\n",
       "      <th>4</th>\n",
       "      <td>GO:0006360</td>\n",
       "      <td>biological_process</td>\n",
       "      <td>1</td>\n",
       "      <td>transcription by RNA polymerase I</td>\n",
       "      <td>7/242</td>\n",
       "      <td>23/3786</td>\n",
       "      <td>4.042784e-04</td>\n",
       "      <td>0.009241</td>\n",
       "    </tr>\n",
       "    <tr>\n",
       "      <th>66</th>\n",
       "      <td>GO:0012505</td>\n",
       "      <td>cellular_component</td>\n",
       "      <td>1</td>\n",
       "      <td>endomembrane system</td>\n",
       "      <td>58/242</td>\n",
       "      <td>593/3786</td>\n",
       "      <td>4.780687e-04</td>\n",
       "      <td>0.009561</td>\n",
       "    </tr>\n",
       "    <tr>\n",
       "      <th>113</th>\n",
       "      <td>GO:0008150</td>\n",
       "      <td>biological_process</td>\n",
       "      <td>0</td>\n",
       "      <td>biological_process</td>\n",
       "      <td>32/242</td>\n",
       "      <td>999/3786</td>\n",
       "      <td>5.064818e-07</td>\n",
       "      <td>0.000081</td>\n",
       "    </tr>\n",
       "    <tr>\n",
       "      <th>148</th>\n",
       "      <td>GO:0003674</td>\n",
       "      <td>molecular_function</td>\n",
       "      <td>0</td>\n",
       "      <td>molecular_function</td>\n",
       "      <td>66/242</td>\n",
       "      <td>1518/3786</td>\n",
       "      <td>2.385942e-05</td>\n",
       "      <td>0.001909</td>\n",
       "    </tr>\n",
       "  </tbody>\n",
       "</table>\n",
       "</div>"
      ],
      "text/plain": [
       "             go        go_namespace  go_depth  \\\n",
       "0    GO:0016197  biological_process         1   \n",
       "1    GO:0007005  biological_process         1   \n",
       "2    GO:0045333  biological_process         2   \n",
       "3    GO:0071554  biological_process         1   \n",
       "4    GO:0006360  biological_process         1   \n",
       "66   GO:0012505  cellular_component         1   \n",
       "113  GO:0008150  biological_process         0   \n",
       "148  GO:0003674  molecular_function         0   \n",
       "\n",
       "                                  go_name ratio_in_study ratio_in_population  \\\n",
       "0                     endosomal transport         13/242             62/3786   \n",
       "1              mitochondrion organization         23/242            161/3786   \n",
       "2                    cellular respiration         11/242             50/3786   \n",
       "3    cell wall organization or biogenesis         20/242            135/3786   \n",
       "4       transcription by RNA polymerase I          7/242             23/3786   \n",
       "66                    endomembrane system         58/242            593/3786   \n",
       "113                    biological_process         32/242            999/3786   \n",
       "148                    molecular_function         66/242           1518/3786   \n",
       "\n",
       "           pvalue    qvalue  \n",
       "0    1.066429e-04  0.005688  \n",
       "1    1.961806e-04  0.007449  \n",
       "2    2.327869e-04  0.007449  \n",
       "3    4.032130e-04  0.009241  \n",
       "4    4.042784e-04  0.009241  \n",
       "66   4.780687e-04  0.009561  \n",
       "113  5.064818e-07  0.000081  \n",
       "148  2.385942e-05  0.001909  "
      ]
     },
     "execution_count": 19,
     "metadata": {},
     "output_type": "execute_result"
    }
   ],
   "source": [
    "go_enrich(set(genes),\n",
    "          set(w[w > 0].index),\n",
    "          obodag=obodag, go=go)"
   ]
  },
  {
   "cell_type": "code",
   "execution_count": 20,
   "metadata": {},
   "outputs": [
    {
     "name": "stdout",
     "output_type": "stream",
     "text": [
      "\n",
      "Load GOEA Gene Ontology Analysis ...\n",
      "fisher module not installed.  Falling back on scipy.stats.fisher_exact\n",
      "\n",
      "Run GOEA Gene Ontology Analysis: current study set of 242 IDs ...\n"
     ]
    }
   ],
   "source": [
    "go_enrich(set(genes),\n",
    "          set(w[w > 0].index),\n",
    "          obodag=obodag, go=go).to_csv('go_terms.tsv',\n",
    "                                       sep='\\t',\n",
    "                                       index=False)"
   ]
  },
  {
   "cell_type": "code",
   "execution_count": 21,
   "metadata": {},
   "outputs": [
    {
     "data": {
      "text/plain": [
       "(1026, 242)"
      ]
     },
     "execution_count": 21,
     "metadata": {},
     "output_type": "execute_result"
    }
   ],
   "source": [
    "w.shape[0], w[w > 0].shape[0]"
   ]
  },
  {
   "cell_type": "code",
   "execution_count": 22,
   "metadata": {},
   "outputs": [],
   "source": [
    "pm = (m.reset_index().groupby('gene')['phenotype'].sum()\n",
    "      /\n",
    "      m.reset_index().groupby('gene')['phenotype'].count())"
   ]
  },
  {
   "cell_type": "code",
   "execution_count": 23,
   "metadata": {},
   "outputs": [
    {
     "data": {
      "image/png": "[encoded data removed]",
      "text/plain": [
       "<Figure size 288x288 with 1 Axes>"
      ]
     },
     "metadata": {
      "needs_background": "light"
     },
     "output_type": "display_data"
    }
   ],
   "source": [
    "plt.figure(figsize=(4, 4))\n",
    "\n",
    "idx = pm.index.intersection(w.index)\n",
    "\n",
    "plt.plot(pm.loc[idx],\n",
    "         w.loc[idx],\n",
    "         'k.')\n",
    "\n",
    "plt.xlabel('proportion of phenotypes')\n",
    "plt.ylabel('exclusiveness');"
   ]
  },
  {
   "cell_type": "code",
   "execution_count": 24,
   "metadata": {},
   "outputs": [
    {
     "data": {
      "image/png": "[encoded data removed]",
      "text/plain": [
       "<Figure size 324x216 with 1 Axes>"
      ]
     },
     "metadata": {
      "needs_background": "light"
     },
     "output_type": "display_data"
    }
   ],
   "source": [
    "plt.figure(figsize=(4.5, 3))\n",
    "\n",
    "x = w1\n",
    "idx = x.sort_values(ascending=False).index\n",
    "\n",
    "xx = x.sort_values(ascending=False).to_frame()\n",
    "xx['rank'] = range(xx.shape[0])\n",
    "\n",
    "obj = plt.plot(xx['rank'],\n",
    "               xx['phenotype'],\n",
    "               'k.')\n",
    "\n",
    "texts = [plt.text(i, y, gn.get(k, k),\n",
    "                  ha='center',\n",
    "                  va='center',\n",
    "                  size=8)\n",
    "         for i, (k, y) in enumerate(x.sort_values(ascending=False).head(10).iteritems())]\n",
    "# iterations = adjust_text(texts,\n",
    "#                          arrowprops=dict(arrowstyle='-',\n",
    "#                                          color='k'),\n",
    "#                          force_text=0.1,\n",
    "#                          #add_objects=obj\n",
    "#                         )\n",
    "\n",
    "# plt.gca().invert_yaxis()\n",
    "\n",
    "# plt.axhline(0.6,\n",
    "#             color='grey',\n",
    "#             ls='dashed')\n",
    "\n",
    "plt.xlabel('Genes rank')\n",
    "plt.xticks([])\n",
    "# plt.ylim(-0.01, 70)\n",
    "plt.ylabel('Exclusive phenotypes propensity\\n(across all strains)')\n",
    "\n",
    "plt.savefig('exclusiveness_all_alternative.png',\n",
    "            dpi=300, bbox_inches='tight',\n",
    "            transparent=True)\n",
    "plt.savefig('exclusiveness_all_alternative.svg',\n",
    "            dpi=300, bbox_inches='tight',\n",
    "            transparent=True);"
   ]
  },
  {
   "cell_type": "code",
   "execution_count": 25,
   "metadata": {},
   "outputs": [],
   "source": [
    "!curl --silent http://eggnogdb.embl.de/download/eggnog_4.5/data/fuNOG/fuNOG.members.tsv.gz | zcat > fuNOG.txt"
   ]
  },
  {
   "cell_type": "code",
   "execution_count": 26,
   "metadata": {},
   "outputs": [],
   "source": [
    "dnog = {}\n",
    "species = set()\n",
    "for l in open('fuNOG.txt'):\n",
    "    _, _, _, _, _, x = l.rstrip().split('\\t')\n",
    "    for g in x.split(','):\n",
    "        s = g.split('.')\n",
    "        org = s[0]\n",
    "        gene = '.'.join(s[1:])\n",
    "        species.add(org)\n",
    "        if org == '4932':\n",
    "            dnog[gene] = len({g.split('.')[0] for g in x.split(',')})\n",
    "nog = pd.Series(dnog) / len(species)"
   ]
  },
  {
   "cell_type": "code",
   "execution_count": 27,
   "metadata": {},
   "outputs": [],
   "source": [
    "disorder = '../out/disorder.txt'"
   ]
  },
  {
   "cell_type": "code",
   "execution_count": 28,
   "metadata": {},
   "outputs": [],
   "source": [
    "dis = pd.read_csv(disorder, sep='\\t', header=None)"
   ]
  },
  {
   "cell_type": "code",
   "execution_count": 29,
   "metadata": {},
   "outputs": [],
   "source": [
    "dis = dis.set_index(0)[2]"
   ]
  },
  {
   "cell_type": "code",
   "execution_count": 30,
   "metadata": {},
   "outputs": [],
   "source": [
    "it = pd.Series(it)\n",
    "git = pd.Series(git)\n",
    "pit = pd.Series(pit)\n",
    "\n",
    "# it = it / it.max()\n",
    "# git = git / git.max()\n",
    "# pit = pit / pit.max()"
   ]
  },
  {
   "cell_type": "code",
   "execution_count": 31,
   "metadata": {},
   "outputs": [],
   "source": [
    "res = []\n",
    "for df, name in zip([it,\n",
    "                     git, pit,\n",
    "                     nog, dis],\n",
    "                    ['biogrid',\n",
    "                     'genetic-negative',\n",
    "                     'genetic-positive',\n",
    "                     'conservation',\n",
    "                     'disorder']):\n",
    "    res.append(compare(w, df, name=name,\n",
    "                       threshold=0))\n",
    "r = pd.concat(res)"
   ]
  },
  {
   "cell_type": "code",
   "execution_count": 32,
   "metadata": {},
   "outputs": [
    {
     "data": {
      "image/png": "[encoded data removed]",
      "text/plain": [
       "<Figure size 1512x504 with 5 Axes>"
      ]
     },
     "metadata": {
      "needs_background": "light"
     },
     "output_type": "display_data"
    }
   ],
   "source": [
    "plt.figure(figsize=(21, 7))\n",
    "\n",
    "for i, name in enumerate(r['name'].unique()):\n",
    "    plt.subplot(1, 5, i+1)\n",
    "    \n",
    "    sns.boxplot(data=r[r['name'] == name],\n",
    "                x='v',\n",
    "                y='set',\n",
    "                palette=[sns.xkcd_rgb['pale red']] +\n",
    "                        [sns.xkcd_rgb['light grey']] * 10)\n",
    "    \n",
    "    plt.title(name);"
   ]
  },
  {
   "cell_type": "code",
   "execution_count": 33,
   "metadata": {},
   "outputs": [
    {
     "data": {
      "image/png": "[encoded data removed]",
      "text/plain": [
       "<Figure size 648x648 with 5 Axes>"
      ]
     },
     "metadata": {
      "needs_background": "light"
     },
     "output_type": "display_data"
    }
   ],
   "source": [
    "plt.figure(figsize=(9, 9))\n",
    "\n",
    "for i, name in enumerate(r['name'].unique()):\n",
    "    plt.subplot(5, 1, i+1)\n",
    "    \n",
    "    sns.kdeplot(r[(r['name'] == name) &\n",
    "                  (r['set'] == 'real')]['v'],\n",
    "                color='r',\n",
    "                label=name,\n",
    "                lw=3)\n",
    "    for x in r[(r['name'] == name) &\n",
    "               (r['set'] != 'real')]['set'].unique():\n",
    "        sns.kdeplot(r[(r['name'] == name) &\n",
    "                      (r['set'] == x)]['v'],\n",
    "                    color=sns.xkcd_rgb['grey'],\n",
    "                    label='_',\n",
    "                    zorder=0)\n",
    "    \n",
    "#     plt.xlim(-0.05, 1.05)\n",
    "    plt.yticks([])\n",
    "    \n",
    "sns.despine(left=True)"
   ]
  },
  {
   "cell_type": "code",
   "execution_count": 34,
   "metadata": {},
   "outputs": [
    {
     "data": {
      "image/png": "[encoded data removed]",
      "text/plain": [
       "<Figure size 504x180 with 1 Axes>"
      ]
     },
     "metadata": {
      "needs_background": "light"
     },
     "output_type": "display_data"
    }
   ],
   "source": [
    "plt.figure(figsize=(7, 2.5))\n",
    "\n",
    "name = 'biogrid'\n",
    "\n",
    "sns.kdeplot(r[(r['name'] == name) &\n",
    "              (r['set'] == 'real')]['v'],\n",
    "            color='r',\n",
    "            label=name,\n",
    "            lw=3)\n",
    "for x in r[(r['name'] == name) &\n",
    "           (r['set'] != 'real')]['set'].unique():\n",
    "    sns.kdeplot(r[(r['name'] == name) &\n",
    "                  (r['set'] == x)]['v'],\n",
    "                color=sns.xkcd_rgb['light grey'],\n",
    "                label='_',\n",
    "                alpha=1,\n",
    "                zorder=0)\n",
    "\n",
    "# plt.xlim(-0.05, 0.405)\n",
    "plt.yticks([])\n",
    "    \n",
    "sns.despine(left=True)"
   ]
  },
  {
   "cell_type": "code",
   "execution_count": 35,
   "metadata": {},
   "outputs": [
    {
     "data": {
      "image/png": "[encoded data removed]",
      "text/plain": [
       "<Figure size 432x144 with 1 Axes>"
      ]
     },
     "metadata": {
      "needs_background": "light"
     },
     "output_type": "display_data"
    }
   ],
   "source": [
    "plt.figure(figsize=(6, 2))\n",
    "\n",
    "name = 'disorder'\n",
    "sns.boxplot(data=r[(r['name'] == name) &\n",
    "                   (r['set'].isin(['real',\n",
    "                                   'random']))],\n",
    "            x='v',\n",
    "            y='set',\n",
    "            palette=[sns.xkcd_rgb['pale red']] +\n",
    "                    [sns.xkcd_rgb['light grey']],\n",
    "            notch=True,\n",
    "            showfliers=False,\n",
    "            bootstrap=1000\n",
    "           )\n",
    "    \n",
    "plt.ylabel('Genes')\n",
    "plt.xlabel('Proportion of AA in disordered regions')\n",
    "plt.yticks([0, 1],\n",
    "           ['High exclusiveness',\n",
    "            'All others'])\n",
    "\n",
    "plt.savefig('disorder.png',\n",
    "            dpi=300, bbox_inches='tight',\n",
    "            transparent=True)\n",
    "plt.savefig('disorder.svg',\n",
    "            dpi=300, bbox_inches='tight',\n",
    "            transparent=True);"
   ]
  },
  {
   "cell_type": "code",
   "execution_count": 36,
   "metadata": {},
   "outputs": [
    {
     "data": {
      "text/plain": [
       "Ks_2sampResult(statistic=0.06082211867963716, pvalue=0.4911841923496412)"
      ]
     },
     "execution_count": 36,
     "metadata": {},
     "output_type": "execute_result"
    }
   ],
   "source": [
    "stats.ks_2samp(r[(r['name'] == name) &\n",
    "                   (r['set'] == 'real')]['v'],\n",
    "               r[(r['name'] == name) &\n",
    "                   (r['set'] == 'random')]['v'])"
   ]
  },
  {
   "cell_type": "code",
   "execution_count": 37,
   "metadata": {},
   "outputs": [
    {
     "data": {
      "text/plain": [
       "0.0701484572797037"
      ]
     },
     "execution_count": 37,
     "metadata": {},
     "output_type": "execute_result"
    }
   ],
   "source": [
    "cohens(r[(r['name'] == name) &\n",
    "         (r['set'] == 'real')]['v'],\n",
    "       r[(r['name'] == name) &\n",
    "         (r['set'] == 'random')]['v'])"
   ]
  },
  {
   "cell_type": "code",
   "execution_count": 38,
   "metadata": {},
   "outputs": [
    {
     "data": {
      "image/png": "[encoded data removed]",
      "text/plain": [
       "<Figure size 432x144 with 1 Axes>"
      ]
     },
     "metadata": {
      "needs_background": "light"
     },
     "output_type": "display_data"
    }
   ],
   "source": [
    "plt.figure(figsize=(6, 2))\n",
    "\n",
    "name = 'conservation'\n",
    "sns.boxplot(data=r[(r['name'] == name) &\n",
    "                   (r['set'].isin(['real',\n",
    "                                   'random']))],\n",
    "            x='v',\n",
    "            y='set',\n",
    "            palette=[sns.xkcd_rgb['pale red']] +\n",
    "                    [sns.xkcd_rgb['light grey']],\n",
    "            notch=True,\n",
    "            showfliers=False,\n",
    "            bootstrap=1000\n",
    "           )\n",
    "    \n",
    "plt.ylabel('Genes')\n",
    "plt.xlabel('Gene conservation\\n(fungi)')\n",
    "plt.yticks([0, 1],\n",
    "           ['High exclusiveness',\n",
    "            'All others'])\n",
    "\n",
    "plt.savefig('conservation.png',\n",
    "            dpi=300, bbox_inches='tight',\n",
    "            transparent=True)\n",
    "plt.savefig('conservation.svg',\n",
    "            dpi=300, bbox_inches='tight',\n",
    "            transparent=True);"
   ]
  },
  {
   "cell_type": "code",
   "execution_count": 39,
   "metadata": {},
   "outputs": [
    {
     "data": {
      "text/plain": [
       "Ks_2sampResult(statistic=0.10175847987332276, pvalue=0.06526535656473363)"
      ]
     },
     "execution_count": 39,
     "metadata": {},
     "output_type": "execute_result"
    }
   ],
   "source": [
    "stats.ks_2samp(r[(r['name'] == name) &\n",
    "                   (r['set'] == 'real')]['v'],\n",
    "               r[(r['name'] == name) &\n",
    "                   (r['set'] == 'random')]['v'])"
   ]
  },
  {
   "cell_type": "code",
   "execution_count": 40,
   "metadata": {},
   "outputs": [
    {
     "data": {
      "text/plain": [
       "0.19690987983561803"
      ]
     },
     "execution_count": 40,
     "metadata": {},
     "output_type": "execute_result"
    }
   ],
   "source": [
    "cohens(r[(r['name'] == name) &\n",
    "         (r['set'] == 'real')]['v'],\n",
    "       r[(r['name'] == name) &\n",
    "         (r['set'] == 'random')]['v'])"
   ]
  },
  {
   "cell_type": "code",
   "execution_count": 41,
   "metadata": {},
   "outputs": [
    {
     "data": {
      "image/png": "[encoded data removed]",
      "text/plain": [
       "<Figure size 432x144 with 1 Axes>"
      ]
     },
     "metadata": {
      "needs_background": "light"
     },
     "output_type": "display_data"
    }
   ],
   "source": [
    "plt.figure(figsize=(6, 2))\n",
    "\n",
    "name = 'biogrid'\n",
    "sns.boxplot(data=r[(r['name'] == name) &\n",
    "                   (r['set'].isin(['real',\n",
    "                                   'random']))],\n",
    "            x='v',\n",
    "            y='set',\n",
    "            palette=[sns.xkcd_rgb['pale red']] +\n",
    "                    [sns.xkcd_rgb['light grey']],\n",
    "            notch=True,\n",
    "            showfliers=False,\n",
    "            bootstrap=1000\n",
    "           )\n",
    "    \n",
    "plt.ylabel('Genes')\n",
    "plt.xlabel('Physical interactions\\n(Biogrid)')\n",
    "plt.yticks([0, 1],\n",
    "           ['High exclusiveness',\n",
    "            'All others'])\n",
    "\n",
    "plt.savefig('biogrid.png',\n",
    "            dpi=300, bbox_inches='tight',\n",
    "            transparent=True)\n",
    "plt.savefig('biogrid.svg',\n",
    "            dpi=300, bbox_inches='tight',\n",
    "            transparent=True);"
   ]
  },
  {
   "cell_type": "code",
   "execution_count": 42,
   "metadata": {},
   "outputs": [
    {
     "data": {
      "text/plain": [
       "Ks_2sampResult(statistic=0.2648534837211035, pvalue=5.1859275273974734e-11)"
      ]
     },
     "execution_count": 42,
     "metadata": {},
     "output_type": "execute_result"
    }
   ],
   "source": [
    "stats.ks_2samp(r[(r['name'] == name) &\n",
    "                   (r['set'] == 'real')]['v'],\n",
    "               r[(r['name'] == name) &\n",
    "                   (r['set'] == 'random')]['v'])"
   ]
  },
  {
   "cell_type": "code",
   "execution_count": 43,
   "metadata": {},
   "outputs": [
    {
     "data": {
      "text/plain": [
       "0.4944370871542943"
      ]
     },
     "execution_count": 43,
     "metadata": {},
     "output_type": "execute_result"
    }
   ],
   "source": [
    "cohens(r[(r['name'] == name) &\n",
    "         (r['set'] == 'real')]['v'],\n",
    "       r[(r['name'] == name) &\n",
    "         (r['set'] == 'random')]['v'])"
   ]
  },
  {
   "cell_type": "code",
   "execution_count": 44,
   "metadata": {},
   "outputs": [
    {
     "data": {
      "image/png": "[encoded data removed]",
      "text/plain": [
       "<Figure size 432x144 with 1 Axes>"
      ]
     },
     "metadata": {
      "needs_background": "light"
     },
     "output_type": "display_data"
    }
   ],
   "source": [
    "plt.figure(figsize=(6, 2))\n",
    "\n",
    "name = 'genetic-negative'\n",
    "sns.boxplot(data=r[(r['name'] == name) &\n",
    "                   (r['set'].isin(['real',\n",
    "                                   'random']))],\n",
    "            x='v',\n",
    "            y='set',\n",
    "            palette=[sns.xkcd_rgb['pale red']] +\n",
    "                    [sns.xkcd_rgb['light grey']],\n",
    "            notch=True,\n",
    "            showfliers=False,\n",
    "            bootstrap=1000\n",
    "           )\n",
    "    \n",
    "plt.ylabel('Genes')\n",
    "plt.xlabel('Negative genetic interactions\\n(Biogrid)')\n",
    "plt.yticks([0, 1],\n",
    "           ['High exclusiveness',\n",
    "            'All others'])\n",
    "\n",
    "plt.savefig('biogrid-genetic.png',\n",
    "            dpi=300, bbox_inches='tight',\n",
    "            transparent=True)\n",
    "plt.savefig('biogrid-genetic.svg',\n",
    "            dpi=300, bbox_inches='tight',\n",
    "            transparent=True);"
   ]
  },
  {
   "cell_type": "code",
   "execution_count": 45,
   "metadata": {},
   "outputs": [
    {
     "data": {
      "text/plain": [
       "Ks_2sampResult(statistic=0.2562848507145073, pvalue=1.0070055114898762e-09)"
      ]
     },
     "execution_count": 45,
     "metadata": {},
     "output_type": "execute_result"
    }
   ],
   "source": [
    "stats.ks_2samp(r[(r['name'] == name) &\n",
    "                   (r['set'] == 'real')]['v'],\n",
    "               r[(r['name'] == name) &\n",
    "                   (r['set'] == 'random')]['v'])"
   ]
  },
  {
   "cell_type": "code",
   "execution_count": 46,
   "metadata": {},
   "outputs": [
    {
     "data": {
      "text/plain": [
       "0.5330652154527096"
      ]
     },
     "execution_count": 46,
     "metadata": {},
     "output_type": "execute_result"
    }
   ],
   "source": [
    "cohens(r[(r['name'] == name) &\n",
    "         (r['set'] == 'real')]['v'],\n",
    "       r[(r['name'] == name) &\n",
    "         (r['set'] == 'random')]['v'])"
   ]
  },
  {
   "cell_type": "code",
   "execution_count": 47,
   "metadata": {},
   "outputs": [
    {
     "data": {
      "image/png": "[encoded data removed]",
      "text/plain": [
       "<Figure size 324x144 with 1 Axes>"
      ]
     },
     "metadata": {
      "needs_background": "light"
     },
     "output_type": "display_data"
    }
   ],
   "source": [
    "plt.figure(figsize=(4.5, 2))\n",
    "\n",
    "names = ['genetic-negative',\n",
    "         'biogrid']\n",
    "sns.boxplot(data=r[(r['name'].isin(names)) &\n",
    "                   (r['set'].isin(['real',\n",
    "                                   'random']))],\n",
    "            x='v',\n",
    "            y='name',\n",
    "            hue='set',\n",
    "            palette=[sns.xkcd_rgb['pale red']] +\n",
    "                    [sns.xkcd_rgb['light grey']],\n",
    "            notch=True,\n",
    "            showfliers=False,\n",
    "            bootstrap=1000\n",
    "           )\n",
    "    \n",
    "plt.ylabel('')\n",
    "plt.xlabel('# interactions\\n(Biogrid)')\n",
    "plt.yticks([0, 1],\n",
    "           ['Genetic\\ninteractions\\n(negative)',\n",
    "            'Physical\\ninteractions'])\n",
    "\n",
    "l = plt.legend(title='Genes')\n",
    "l.get_texts()[0].set_text('High exclusiveness')\n",
    "l.get_texts()[1].set_text('All others')\n",
    "\n",
    "plt.savefig('biogrid-both.png',\n",
    "            dpi=300, bbox_inches='tight',\n",
    "            transparent=True)\n",
    "plt.savefig('biogrid-both.svg',\n",
    "            dpi=300, bbox_inches='tight',\n",
    "            transparent=True);"
   ]
  },
  {
   "cell_type": "code",
   "execution_count": 48,
   "metadata": {},
   "outputs": [],
   "source": [
    "res = []\n",
    "for df, name in zip([it,\n",
    "                     git, pit],\n",
    "                    ['biogrid',\n",
    "                     'genetic-negative',\n",
    "                     'genetic-positive']):\n",
    "    res.append(compare(w1, df, name=name,\n",
    "                       threshold=0))\n",
    "r = pd.concat(res)"
   ]
  },
  {
   "cell_type": "code",
   "execution_count": 49,
   "metadata": {},
   "outputs": [
    {
     "data": {
      "text/plain": [
       "Ks_2sampResult(statistic=0.21664051465590028, pvalue=5.5196395885024884e-17)"
      ]
     },
     "execution_count": 49,
     "metadata": {},
     "output_type": "execute_result"
    }
   ],
   "source": [
    "name = 'biogrid'\n",
    "stats.ks_2samp(r[(r['name'] == name) &\n",
    "                   (r['set'] == 'real')]['v'],\n",
    "               r[(r['name'] == name) &\n",
    "                   (r['set'] == 'random')]['v'])"
   ]
  },
  {
   "cell_type": "code",
   "execution_count": 50,
   "metadata": {},
   "outputs": [
    {
     "data": {
      "text/plain": [
       "0.47744855994922725"
      ]
     },
     "execution_count": 50,
     "metadata": {},
     "output_type": "execute_result"
    }
   ],
   "source": [
    "cohens(r[(r['name'] == name) &\n",
    "         (r['set'] == 'real')]['v'],\n",
    "       r[(r['name'] == name) &\n",
    "         (r['set'] == 'random')]['v'])"
   ]
  },
  {
   "cell_type": "code",
   "execution_count": 51,
   "metadata": {},
   "outputs": [
    {
     "data": {
      "text/plain": [
       "Ks_2sampResult(statistic=0.20113454920512142, pvalue=2.4701778220464597e-13)"
      ]
     },
     "execution_count": 51,
     "metadata": {},
     "output_type": "execute_result"
    }
   ],
   "source": [
    "name = 'genetic-negative'\n",
    "stats.ks_2samp(r[(r['name'] == name) &\n",
    "                   (r['set'] == 'real')]['v'],\n",
    "               r[(r['name'] == name) &\n",
    "                   (r['set'] == 'random')]['v'])"
   ]
  },
  {
   "cell_type": "code",
   "execution_count": 52,
   "metadata": {},
   "outputs": [
    {
     "data": {
      "text/plain": [
       "0.4876622925290878"
      ]
     },
     "execution_count": 52,
     "metadata": {},
     "output_type": "execute_result"
    }
   ],
   "source": [
    "cohens(r[(r['name'] == name) &\n",
    "         (r['set'] == 'real')]['v'],\n",
    "       r[(r['name'] == name) &\n",
    "         (r['set'] == 'random')]['v'])"
   ]
  },
  {
   "cell_type": "code",
   "execution_count": 53,
   "metadata": {},
   "outputs": [
    {
     "data": {
      "image/png": "[encoded data removed]",
      "text/plain": [
       "<Figure size 324x144 with 1 Axes>"
      ]
     },
     "metadata": {
      "needs_background": "light"
     },
     "output_type": "display_data"
    }
   ],
   "source": [
    "plt.figure(figsize=(4.5, 2))\n",
    "\n",
    "names = ['genetic-negative',\n",
    "         'biogrid']\n",
    "sns.boxplot(data=r[(r['name'].isin(names)) &\n",
    "                   (r['set'].isin(['real',\n",
    "                                   'random']))],\n",
    "            x='v',\n",
    "            y='name',\n",
    "            hue='set',\n",
    "            palette=[sns.xkcd_rgb['pale red']] +\n",
    "                    [sns.xkcd_rgb['light grey']],\n",
    "            notch=True,\n",
    "            showfliers=False,\n",
    "            bootstrap=1000\n",
    "           )\n",
    "    \n",
    "plt.ylabel('')\n",
    "plt.xlabel('# interactions\\n(Biogrid)')\n",
    "plt.yticks([0, 1],\n",
    "           ['Genetic\\ninteractions\\n(negative)',\n",
    "            'Physical\\ninteractions'])\n",
    "\n",
    "l = plt.legend(title='Genes')\n",
    "l.get_texts()[0].set_text('High exclusiveness')\n",
    "l.get_texts()[1].set_text('All others')\n",
    "\n",
    "plt.savefig('biogrid-both-alternative.png',\n",
    "            dpi=300, bbox_inches='tight',\n",
    "            transparent=True)\n",
    "plt.savefig('biogrid-both-alternative.svg',\n",
    "            dpi=300, bbox_inches='tight',\n",
    "            transparent=True);"
   ]
  },
  {
   "cell_type": "code",
   "execution_count": 54,
   "metadata": {},
   "outputs": [],
   "source": [
    "w.name = 'exclusiveness'\n",
    "w1.name = 'exclusiveness-alternative'\n",
    "x = w.to_frame().join(w1.to_frame(), how='outer')"
   ]
  },
  {
   "cell_type": "code",
   "execution_count": 55,
   "metadata": {},
   "outputs": [],
   "source": [
    "x.sort_values('exclusiveness', ascending=False).to_csv('exclusiveness.tsv')"
   ]
  },
  {
   "cell_type": "code",
   "execution_count": 56,
   "metadata": {},
   "outputs": [
    {
     "data": {
      "text/plain": [
       "0.07888703002288683"
      ]
     },
     "execution_count": 56,
     "metadata": {},
     "output_type": "execute_result"
    }
   ],
   "source": [
    "(m.loc[(slice(None), w[w > 0].index),].reset_index().groupby('gene')['phenotype'].sum() / \n",
    "m.loc[(slice(None), w[w > 0].index),].reset_index().groupby('gene')['phenotype'].count()).mean()"
   ]
  },
  {
   "cell_type": "code",
   "execution_count": 57,
   "metadata": {},
   "outputs": [
    {
     "data": {
      "text/plain": [
       "0.04774948319376646"
      ]
     },
     "execution_count": 57,
     "metadata": {},
     "output_type": "execute_result"
    }
   ],
   "source": [
    "(m.loc[(slice(None), w[w > 0].index),].reset_index().groupby('gene')['phenotype'].sum() / \n",
    "m.loc[(slice(None), w[w > 0].index),].reset_index().groupby('gene')['phenotype'].count()).std()"
   ]
  },
  {
   "cell_type": "code",
   "execution_count": 58,
   "metadata": {},
   "outputs": [],
   "source": [
    "c = m.groupby('gene')['phenotype'].sum() / m.groupby('gene')['phenotype'].count()"
   ]
  },
  {
   "cell_type": "code",
   "execution_count": 59,
   "metadata": {},
   "outputs": [],
   "source": [
    "ww = w.loc[c[c > 0.05].index.intersection(w.index)]"
   ]
  },
  {
   "cell_type": "code",
   "execution_count": 60,
   "metadata": {},
   "outputs": [
    {
     "data": {
      "text/plain": [
       "0.07422543337215183"
      ]
     },
     "execution_count": 60,
     "metadata": {},
     "output_type": "execute_result"
    }
   ],
   "source": [
    "(m.loc[(slice(None), ww[ww == 0].index),].reset_index().groupby('gene')['phenotype'].sum() / \n",
    "m.loc[(slice(None), ww[ww == 0].index),].reset_index().groupby('gene')['phenotype'].count()).mean()"
   ]
  },
  {
   "cell_type": "code",
   "execution_count": 61,
   "metadata": {},
   "outputs": [
    {
     "data": {
      "text/plain": [
       "0.02295686386798717"
      ]
     },
     "execution_count": 61,
     "metadata": {},
     "output_type": "execute_result"
    }
   ],
   "source": [
    "(m.loc[(slice(None), ww[ww == 0].index),].reset_index().groupby('gene')['phenotype'].sum() / \n",
    "m.loc[(slice(None), ww[ww == 0].index),].reset_index().groupby('gene')['phenotype'].count()).std()"
   ]
  },
  {
   "cell_type": "code",
   "execution_count": 62,
   "metadata": {},
   "outputs": [],
   "source": [
    "res = []\n",
    "for df, name in zip([it,\n",
    "                     git, pit],\n",
    "                    ['biogrid',\n",
    "                     'genetic-negative',\n",
    "                     'genetic-positive']):\n",
    "    res.append(compare(ww, df, name=name,\n",
    "                       threshold=0))\n",
    "r = pd.concat(res)"
   ]
  },
  {
   "cell_type": "code",
   "execution_count": 63,
   "metadata": {},
   "outputs": [
    {
     "data": {
      "image/png": "[encoded data removed]",
      "text/plain": [
       "<Figure size 432x144 with 1 Axes>"
      ]
     },
     "metadata": {
      "needs_background": "light"
     },
     "output_type": "display_data"
    }
   ],
   "source": [
    "plt.figure(figsize=(6, 2))\n",
    "\n",
    "name = 'biogrid'\n",
    "sns.boxplot(data=r[(r['name'] == name) &\n",
    "                   (r['set'].isin(['real',\n",
    "                                   'random']))],\n",
    "            x='v',\n",
    "            y='set',\n",
    "            palette=[sns.xkcd_rgb['pale red']] +\n",
    "                    [sns.xkcd_rgb['light grey']],\n",
    "            notch=True,\n",
    "            showfliers=False,\n",
    "            bootstrap=1000\n",
    "           )\n",
    "    \n",
    "plt.ylabel('Genes')\n",
    "plt.xlabel('Physical interactions\\n(Biogrid)')\n",
    "plt.yticks([0, 1],\n",
    "           ['High exclusiveness',\n",
    "            'All others']);"
   ]
  },
  {
   "cell_type": "code",
   "execution_count": 64,
   "metadata": {},
   "outputs": [
    {
     "data": {
      "text/plain": [
       "Ks_2sampResult(statistic=0.23526277057375594, pvalue=3.41079449936996e-05)"
      ]
     },
     "execution_count": 64,
     "metadata": {},
     "output_type": "execute_result"
    }
   ],
   "source": [
    "stats.ks_2samp(r[(r['name'] == name) &\n",
    "                   (r['set'] == 'real')]['v'],\n",
    "               r[(r['name'] == name) &\n",
    "                   (r['set'] == 'random')]['v'])"
   ]
  },
  {
   "cell_type": "code",
   "execution_count": 65,
   "metadata": {},
   "outputs": [
    {
     "data": {
      "text/plain": [
       "0.341010656111645"
      ]
     },
     "execution_count": 65,
     "metadata": {},
     "output_type": "execute_result"
    }
   ],
   "source": [
    "cohens(r[(r['name'] == name) &\n",
    "         (r['set'] == 'real')]['v'],\n",
    "       r[(r['name'] == name) &\n",
    "         (r['set'] == 'random')]['v'])"
   ]
  },
  {
   "cell_type": "code",
   "execution_count": 66,
   "metadata": {},
   "outputs": [
    {
     "data": {
      "image/png": "[encoded data removed]",
      "text/plain": [
       "<Figure size 432x144 with 1 Axes>"
      ]
     },
     "metadata": {
      "needs_background": "light"
     },
     "output_type": "display_data"
    }
   ],
   "source": [
    "plt.figure(figsize=(6, 2))\n",
    "\n",
    "name = 'genetic-negative'\n",
    "sns.boxplot(data=r[(r['name'] == name) &\n",
    "                   (r['set'].isin(['real',\n",
    "                                   'random']))],\n",
    "            x='v',\n",
    "            y='set',\n",
    "            palette=[sns.xkcd_rgb['pale red']] +\n",
    "                    [sns.xkcd_rgb['light grey']],\n",
    "            notch=True,\n",
    "            showfliers=False,\n",
    "            bootstrap=1000\n",
    "           )\n",
    "    \n",
    "plt.ylabel('Genes')\n",
    "plt.xlabel('Negative genetic interactions\\n(Biogrid)')\n",
    "plt.yticks([0, 1],\n",
    "           ['High exclusiveness',\n",
    "            'All others']);"
   ]
  },
  {
   "cell_type": "code",
   "execution_count": 67,
   "metadata": {},
   "outputs": [
    {
     "data": {
      "text/plain": [
       "Ks_2sampResult(statistic=0.21885057471264366, pvalue=0.0002546713536257418)"
      ]
     },
     "execution_count": 67,
     "metadata": {},
     "output_type": "execute_result"
    }
   ],
   "source": [
    "stats.ks_2samp(r[(r['name'] == name) &\n",
    "                   (r['set'] == 'real')]['v'],\n",
    "               r[(r['name'] == name) &\n",
    "                   (r['set'] == 'random')]['v'])"
   ]
  },
  {
   "cell_type": "code",
   "execution_count": 68,
   "metadata": {},
   "outputs": [
    {
     "data": {
      "text/plain": [
       "0.4459634819619174"
      ]
     },
     "execution_count": 68,
     "metadata": {},
     "output_type": "execute_result"
    }
   ],
   "source": [
    "cohens(r[(r['name'] == name) &\n",
    "         (r['set'] == 'real')]['v'],\n",
    "       r[(r['name'] == name) &\n",
    "         (r['set'] == 'random')]['v'])"
   ]
  },
  {
   "cell_type": "code",
   "execution_count": 69,
   "metadata": {},
   "outputs": [
    {
     "data": {
      "image/png": "[encoded data removed]",
      "text/plain": [
       "<Figure size 324x144 with 1 Axes>"
      ]
     },
     "metadata": {
      "needs_background": "light"
     },
     "output_type": "display_data"
    }
   ],
   "source": [
    "plt.figure(figsize=(4.5, 2))\n",
    "\n",
    "names = ['genetic-negative',\n",
    "         'biogrid']\n",
    "sns.boxplot(data=r[(r['name'].isin(names)) &\n",
    "                   (r['set'].isin(['real',\n",
    "                                   'random']))],\n",
    "            x='v',\n",
    "            y='name',\n",
    "            hue='set',\n",
    "            palette=[sns.xkcd_rgb['pale red']] +\n",
    "                    [sns.xkcd_rgb['light grey']],\n",
    "            notch=True,\n",
    "            showfliers=False,\n",
    "            bootstrap=1000\n",
    "           )\n",
    "    \n",
    "plt.ylabel('')\n",
    "plt.xlabel('# interactions\\n(Biogrid)')\n",
    "plt.yticks([0, 1],\n",
    "           ['Genetic\\ninteractions\\n(negative)',\n",
    "            'Physical\\ninteractions'])\n",
    "\n",
    "l = plt.legend(title='Genes')\n",
    "l.get_texts()[0].set_text('High exclusiveness')\n",
    "l.get_texts()[1].set_text('All others');"
   ]
  },
  {
   "cell_type": "code",
   "execution_count": 70,
   "metadata": {},
   "outputs": [],
   "source": [
    "res = []\n",
    "for df, name in zip([it,\n",
    "                     git, pit],\n",
    "                    ['biogrid',\n",
    "                     'genetic-negative',\n",
    "                     'genetic-positive']):\n",
    "    res.append(compare(w1, df, name=name,\n",
    "                       threshold=0))\n",
    "r = pd.concat(res)"
   ]
  },
  {
   "cell_type": "code",
   "execution_count": 71,
   "metadata": {},
   "outputs": [
    {
     "data": {
      "text/plain": [
       "Ks_2sampResult(statistic=0.21664051465590028, pvalue=5.5196395885024884e-17)"
      ]
     },
     "execution_count": 71,
     "metadata": {},
     "output_type": "execute_result"
    }
   ],
   "source": [
    "name = 'biogrid'\n",
    "stats.ks_2samp(r[(r['name'] == name) &\n",
    "                   (r['set'] == 'real')]['v'],\n",
    "               r[(r['name'] == name) &\n",
    "                   (r['set'] == 'random')]['v'])"
   ]
  },
  {
   "cell_type": "code",
   "execution_count": 72,
   "metadata": {},
   "outputs": [
    {
     "data": {
      "text/plain": [
       "0.47744855994922725"
      ]
     },
     "execution_count": 72,
     "metadata": {},
     "output_type": "execute_result"
    }
   ],
   "source": [
    "cohens(r[(r['name'] == name) &\n",
    "         (r['set'] == 'real')]['v'],\n",
    "       r[(r['name'] == name) &\n",
    "         (r['set'] == 'random')]['v'])"
   ]
  },
  {
   "cell_type": "code",
   "execution_count": 73,
   "metadata": {},
   "outputs": [
    {
     "data": {
      "text/plain": [
       "Ks_2sampResult(statistic=0.20113454920512142, pvalue=2.4701778220464597e-13)"
      ]
     },
     "execution_count": 73,
     "metadata": {},
     "output_type": "execute_result"
    }
   ],
   "source": [
    "name = 'genetic-negative'\n",
    "stats.ks_2samp(r[(r['name'] == name) &\n",
    "                   (r['set'] == 'real')]['v'],\n",
    "               r[(r['name'] == name) &\n",
    "                   (r['set'] == 'random')]['v'])"
   ]
  },
  {
   "cell_type": "code",
   "execution_count": 74,
   "metadata": {},
   "outputs": [
    {
     "data": {
      "text/plain": [
       "0.4876622925290878"
      ]
     },
     "execution_count": 74,
     "metadata": {},
     "output_type": "execute_result"
    }
   ],
   "source": [
    "cohens(r[(r['name'] == name) &\n",
    "         (r['set'] == 'real')]['v'],\n",
    "       r[(r['name'] == name) &\n",
    "         (r['set'] == 'random')]['v'])"
   ]
  },
  {
   "cell_type": "code",
   "execution_count": 75,
   "metadata": {},
   "outputs": [
    {
     "data": {
      "image/png": "[encoded data removed]",
      "text/plain": [
       "<Figure size 324x144 with 1 Axes>"
      ]
     },
     "metadata": {
      "needs_background": "light"
     },
     "output_type": "display_data"
    }
   ],
   "source": [
    "plt.figure(figsize=(4.5, 2))\n",
    "\n",
    "names = ['genetic-negative',\n",
    "         'biogrid']\n",
    "sns.boxplot(data=r[(r['name'].isin(names)) &\n",
    "                   (r['set'].isin(['real',\n",
    "                                   'random']))],\n",
    "            x='v',\n",
    "            y='name',\n",
    "            hue='set',\n",
    "            palette=[sns.xkcd_rgb['pale red']] +\n",
    "                    [sns.xkcd_rgb['light grey']],\n",
    "            notch=True,\n",
    "            showfliers=False,\n",
    "            bootstrap=1000\n",
    "           )\n",
    "    \n",
    "plt.ylabel('')\n",
    "plt.xlabel('# interactions\\n(Biogrid)')\n",
    "plt.yticks([0, 1],\n",
    "           ['Genetic\\ninteractions\\n(negative)',\n",
    "            'Physical\\ninteractions'])\n",
    "\n",
    "l = plt.legend(title='Genes')\n",
    "l.get_texts()[0].set_text('High exclusiveness')\n",
    "l.get_texts()[1].set_text('All others');"
   ]
  }
 ],
 "metadata": {
  "kernelspec": {
   "display_name": "Python 3",
   "language": "python",
   "name": "python3"
  },
  "language_info": {
   "codemirror_mode": {
    "name": "ipython",
    "version": 3
   },
   "file_extension": ".py",
   "mimetype": "text/x-python",
   "name": "python",
   "nbconvert_exporter": "python",
   "pygments_lexer": "ipython3",
   "version": "3.7.3"
  }
 },
 "nbformat": 4,
 "nbformat_minor": 2
}
