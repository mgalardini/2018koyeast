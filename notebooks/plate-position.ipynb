{
 "cells": [
  {
   "cell_type": "code",
   "execution_count": 1,
   "metadata": {},
   "outputs": [],
   "source": [
    "scores = '../out/ko_scores.txt'"
   ]
  },
  {
   "cell_type": "code",
   "execution_count": 2,
   "metadata": {},
   "outputs": [],
   "source": [
    "# plotting imports\n",
    "%matplotlib inline\n",
    "\n",
    "import matplotlib.pyplot as plt\n",
    "import seaborn as sns\n",
    "\n",
    "sns.set_style('white')\n",
    "\n",
    "plt.rc('font', size=11)\n",
    "plt.rc('xtick', labelsize=11)\n",
    "plt.rc('ytick', labelsize=11)\n",
    "plt.rc('axes', labelsize=12, titlesize=12)\n",
    "plt.rc('legend', fontsize=11)"
   ]
  },
  {
   "cell_type": "code",
   "execution_count": 3,
   "metadata": {},
   "outputs": [],
   "source": [
    "# other imports\n",
    "import pandas as pd"
   ]
  },
  {
   "cell_type": "code",
   "execution_count": 5,
   "metadata": {},
   "outputs": [],
   "source": [
    "m = pd.read_table(scores)\n",
    "m['plate'] = [int(x.split('_')[0])\n",
    "              for x in m['position']]\n",
    "m['row'] = [int(x.split('_')[1])\n",
    "            for x in m['position']]\n",
    "m['column'] = [int(x.split('_')[2])\n",
    "               for x in m['position']]"
   ]
  },
  {
   "cell_type": "code",
   "execution_count": 6,
   "metadata": {},
   "outputs": [
    {
     "data": {
      "text/html": [
       "<div>\n",
       "<style scoped>\n",
       "    .dataframe tbody tr th:only-of-type {\n",
       "        vertical-align: middle;\n",
       "    }\n",
       "\n",
       "    .dataframe tbody tr th {\n",
       "        vertical-align: top;\n",
       "    }\n",
       "\n",
       "    .dataframe thead th {\n",
       "        text-align: right;\n",
       "    }\n",
       "</style>\n",
       "<table border=\"1\" class=\"dataframe\">\n",
       "  <thead>\n",
       "    <tr style=\"text-align: right;\">\n",
       "      <th></th>\n",
       "      <th>strain</th>\n",
       "      <th>condition</th>\n",
       "      <th>gene</th>\n",
       "      <th>name</th>\n",
       "      <th>position</th>\n",
       "      <th>score</th>\n",
       "      <th>qvalue</th>\n",
       "      <th>plate</th>\n",
       "      <th>row</th>\n",
       "      <th>column</th>\n",
       "    </tr>\n",
       "  </thead>\n",
       "  <tbody>\n",
       "    <tr>\n",
       "      <th>0</th>\n",
       "      <td>S288C</td>\n",
       "      <td>2,4-Dichlorophenoxyacetic acid (48H)</td>\n",
       "      <td>WT</td>\n",
       "      <td>NaN</td>\n",
       "      <td>01_01_24</td>\n",
       "      <td>0.081355</td>\n",
       "      <td>1.00000</td>\n",
       "      <td>1</td>\n",
       "      <td>1</td>\n",
       "      <td>24</td>\n",
       "    </tr>\n",
       "    <tr>\n",
       "      <th>1</th>\n",
       "      <td>S288C</td>\n",
       "      <td>2,4-Dichlorophenoxyacetic acid (48H)</td>\n",
       "      <td>WT</td>\n",
       "      <td>NaN</td>\n",
       "      <td>01_06_02</td>\n",
       "      <td>0.127066</td>\n",
       "      <td>1.00000</td>\n",
       "      <td>1</td>\n",
       "      <td>6</td>\n",
       "      <td>2</td>\n",
       "    </tr>\n",
       "    <tr>\n",
       "      <th>2</th>\n",
       "      <td>S288C</td>\n",
       "      <td>2,4-Dichlorophenoxyacetic acid (48H)</td>\n",
       "      <td>WT</td>\n",
       "      <td>NaN</td>\n",
       "      <td>01_29_07</td>\n",
       "      <td>0.297986</td>\n",
       "      <td>1.00000</td>\n",
       "      <td>1</td>\n",
       "      <td>29</td>\n",
       "      <td>7</td>\n",
       "    </tr>\n",
       "    <tr>\n",
       "      <th>3</th>\n",
       "      <td>S288C</td>\n",
       "      <td>2,4-Dichlorophenoxyacetic acid (48H)</td>\n",
       "      <td>WT</td>\n",
       "      <td>NaN</td>\n",
       "      <td>02_12_15</td>\n",
       "      <td>-0.160392</td>\n",
       "      <td>1.00000</td>\n",
       "      <td>2</td>\n",
       "      <td>12</td>\n",
       "      <td>15</td>\n",
       "    </tr>\n",
       "    <tr>\n",
       "      <th>4</th>\n",
       "      <td>S288C</td>\n",
       "      <td>2,4-Dichlorophenoxyacetic acid (48H)</td>\n",
       "      <td>WT</td>\n",
       "      <td>NaN</td>\n",
       "      <td>02_12_32</td>\n",
       "      <td>-0.671234</td>\n",
       "      <td>0.97099</td>\n",
       "      <td>2</td>\n",
       "      <td>12</td>\n",
       "      <td>32</td>\n",
       "    </tr>\n",
       "  </tbody>\n",
       "</table>\n",
       "</div>"
      ],
      "text/plain": [
       "  strain                             condition gene name  position     score  \\\n",
       "0  S288C  2,4-Dichlorophenoxyacetic acid (48H)   WT  NaN  01_01_24  0.081355   \n",
       "1  S288C  2,4-Dichlorophenoxyacetic acid (48H)   WT  NaN  01_06_02  0.127066   \n",
       "2  S288C  2,4-Dichlorophenoxyacetic acid (48H)   WT  NaN  01_29_07  0.297986   \n",
       "3  S288C  2,4-Dichlorophenoxyacetic acid (48H)   WT  NaN  02_12_15 -0.160392   \n",
       "4  S288C  2,4-Dichlorophenoxyacetic acid (48H)   WT  NaN  02_12_32 -0.671234   \n",
       "\n",
       "    qvalue  plate  row  column  \n",
       "0  1.00000      1    1      24  \n",
       "1  1.00000      1    6       2  \n",
       "2  1.00000      1   29       7  \n",
       "3  1.00000      2   12      15  \n",
       "4  0.97099      2   12      32  "
      ]
     },
     "execution_count": 6,
     "metadata": {},
     "output_type": "execute_result"
    }
   ],
   "source": [
    "m.head()"
   ]
  },
  {
   "cell_type": "markdown",
   "metadata": {},
   "source": [
    "<h5><a href=\"javascript:toggle()\" target=\"_self\">toggle source code</a></h5>"
   ]
  }
 ],
 "metadata": {
  "kernelspec": {
   "display_name": "Python 2",
   "language": "python",
   "name": "python2"
  },
  "language_info": {
   "codemirror_mode": {
    "name": "ipython",
    "version": 2
   },
   "file_extension": ".py",
   "mimetype": "text/x-python",
   "name": "python",
   "nbconvert_exporter": "python",
   "pygments_lexer": "ipython2",
   "version": "2.7.14"
  }
 },
 "nbformat": 4,
 "nbformat_minor": 2
}
