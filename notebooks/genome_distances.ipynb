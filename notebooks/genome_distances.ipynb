{
 "cells": [
  {
   "cell_type": "code",
   "execution_count": 1,
   "metadata": {},
   "outputs": [],
   "source": [
    "mash = '../out/genome_distances.tsv'"
   ]
  },
  {
   "cell_type": "code",
   "execution_count": 2,
   "metadata": {},
   "outputs": [],
   "source": [
    "# plotting imports\n",
    "%matplotlib inline\n",
    "\n",
    "import matplotlib.pyplot as plt\n",
    "import seaborn as sns\n",
    "\n",
    "sns.set_style('white')\n",
    "\n",
    "plt.rc('font', size=12)"
   ]
  },
  {
   "cell_type": "code",
   "execution_count": 3,
   "metadata": {},
   "outputs": [],
   "source": [
    "import pandas as pd"
   ]
  },
  {
   "cell_type": "code",
   "execution_count": 4,
   "metadata": {},
   "outputs": [],
   "source": [
    "m = pd.read_table(mash, index_col=0)"
   ]
  },
  {
   "cell_type": "code",
   "execution_count": 5,
   "metadata": {},
   "outputs": [
    {
     "data": {
      "text/html": [
       "<div>\n",
       "<style scoped>\n",
       "    .dataframe tbody tr th:only-of-type {\n",
       "        vertical-align: middle;\n",
       "    }\n",
       "\n",
       "    .dataframe tbody tr th {\n",
       "        vertical-align: top;\n",
       "    }\n",
       "\n",
       "    .dataframe thead th {\n",
       "        text-align: right;\n",
       "    }\n",
       "</style>\n",
       "<table border=\"1\" class=\"dataframe\">\n",
       "  <thead>\n",
       "    <tr style=\"text-align: right;\">\n",
       "      <th></th>\n",
       "      <th>S288c</th>\n",
       "      <th>UWOPS87_2421</th>\n",
       "      <th>Y55</th>\n",
       "      <th>YPS606</th>\n",
       "    </tr>\n",
       "  </thead>\n",
       "  <tbody>\n",
       "    <tr>\n",
       "      <th>S288c</th>\n",
       "      <td>0.000000</td>\n",
       "      <td>0.005539</td>\n",
       "      <td>0.005905</td>\n",
       "      <td>0.006047</td>\n",
       "    </tr>\n",
       "    <tr>\n",
       "      <th>UWOPS87_2421</th>\n",
       "      <td>0.005539</td>\n",
       "      <td>0.000000</td>\n",
       "      <td>0.005615</td>\n",
       "      <td>0.004640</td>\n",
       "    </tr>\n",
       "    <tr>\n",
       "      <th>Y55</th>\n",
       "      <td>0.005905</td>\n",
       "      <td>0.005615</td>\n",
       "      <td>0.000000</td>\n",
       "      <td>0.006115</td>\n",
       "    </tr>\n",
       "    <tr>\n",
       "      <th>YPS606</th>\n",
       "      <td>0.006047</td>\n",
       "      <td>0.004640</td>\n",
       "      <td>0.006115</td>\n",
       "      <td>0.000000</td>\n",
       "    </tr>\n",
       "  </tbody>\n",
       "</table>\n",
       "</div>"
      ],
      "text/plain": [
       "                 S288c  UWOPS87_2421       Y55    YPS606\n",
       "S288c         0.000000      0.005539  0.005905  0.006047\n",
       "UWOPS87_2421  0.005539      0.000000  0.005615  0.004640\n",
       "Y55           0.005905      0.005615  0.000000  0.006115\n",
       "YPS606        0.006047      0.004640  0.006115  0.000000"
      ]
     },
     "execution_count": 5,
     "metadata": {},
     "output_type": "execute_result"
    }
   ],
   "source": [
    "m"
   ]
  },
  {
   "cell_type": "code",
   "execution_count": 6,
   "metadata": {},
   "outputs": [],
   "source": [
    "m.columns = ['S288C', 'UWOP',\n",
    "             'Y55', 'YPS']\n",
    "m.index = ['S288C', 'UWOP',\n",
    "           'Y55', 'YPS']"
   ]
  },
  {
   "cell_type": "code",
   "execution_count": 7,
   "metadata": {},
   "outputs": [
    {
     "data": {
      "image/png": "[encoded data removed]",
      "text/plain": [
       "<Figure size 432x432 with 4 Axes>"
      ]
     },
     "metadata": {},
     "output_type": "display_data"
    }
   ],
   "source": [
    "sns.clustermap(m,\n",
    "               cmap='viridis',\n",
    "               figsize=(6, 6))\n",
    "plt.title('mash distance');"
   ]
  },
  {
   "cell_type": "markdown",
   "metadata": {},
   "source": [
    "<h5><a href=\"javascript:toggle()\" target=\"_self\">toggle source code</a></h5>"
   ]
  }
 ],
 "metadata": {
  "kernelspec": {
   "display_name": "Python 3",
   "language": "python",
   "name": "python3"
  },
  "language_info": {
   "codemirror_mode": {
    "name": "ipython",
    "version": 3
   },
   "file_extension": ".py",
   "mimetype": "text/x-python",
   "name": "python",
   "nbconvert_exporter": "python",
   "pygments_lexer": "ipython3",
   "version": "3.6.5"
  }
 },
 "nbformat": 4,
 "nbformat_minor": 2
}
