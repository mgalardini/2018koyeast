{
 "cells": [
  {
   "cell_type": "code",
   "execution_count": 1,
   "metadata": {},
   "outputs": [],
   "source": [
    "ct1 = '../data/2018_2008.tsv'\n",
    "ct2 = '../data/2018_2006.tsv'\n",
    "scores = '../out/ko_scores_s288c.txt'\n",
    "old = '../data/parsons_2006.tsv'\n",
    "old1 = '../out/hillenmeyer2008/lscores.tsv'\n",
    "old2 = '../out/hillenmeyer2008/zscores.tsv'\n",
    "old3 = '../out/hillenmeyer2008/pvalues.tsv'\n",
    "old4 = '../out/hillenmeyer2008/lscores_het.tsv'\n",
    "old5 = '../out/hillenmeyer2008/zscores_het.tsv'\n",
    "old6 = '../out/hillenmeyer2008/pvalues_het.tsv'"
   ]
  },
  {
   "cell_type": "code",
   "execution_count": 2,
   "metadata": {},
   "outputs": [
    {
     "name": "stderr",
     "output_type": "stream",
     "text": [
      "/usr/lib/python3.6/importlib/_bootstrap.py:219: RuntimeWarning: numpy.dtype size changed, may indicate binary incompatibility. Expected 96, got 88\n",
      "  return f(*args, **kwds)\n"
     ]
    }
   ],
   "source": [
    "# plotting imports\n",
    "%matplotlib inline\n",
    "\n",
    "import matplotlib.pyplot as plt\n",
    "import seaborn as sns\n",
    "\n",
    "sns.set_style('white')\n",
    "\n",
    "plt.rc('font', size=12)"
   ]
  },
  {
   "cell_type": "code",
   "execution_count": 3,
   "metadata": {},
   "outputs": [],
   "source": [
    "# other imports\n",
    "import random\n",
    "import numpy as np\n",
    "import pandas as pd\n",
    "from scipy import stats"
   ]
  },
  {
   "cell_type": "code",
   "execution_count": 4,
   "metadata": {},
   "outputs": [],
   "source": [
    "random.seed(42)"
   ]
  },
  {
   "cell_type": "code",
   "execution_count": 5,
   "metadata": {},
   "outputs": [],
   "source": [
    "d = {}\n",
    "for b, h1, h2, h in pd.read_table(ct1).values:\n",
    "    if str(h2) == 'nan':\n",
    "        h2 = None\n",
    "    else:\n",
    "        h2 = str(int(h2))\n",
    "    d[b] = (h1, h2)"
   ]
  },
  {
   "cell_type": "code",
   "execution_count": 6,
   "metadata": {},
   "outputs": [],
   "source": [
    "m = pd.read_table(scores, index_col=0).loc['S288C'].reset_index()\n",
    "m['condition'] = [x.lower()\n",
    "                  for x in m['condition']]\n",
    "m['signed-qvalue'] = [np.sign(x) * -np.log10(y)\n",
    "                      for x,y in m[['score', 'qvalue']].values]\n",
    "m['phenotype'] = [1 if x is True\n",
    "                  else 0 for x in m['qvalue'] < 0.05]\n",
    "m = m.set_index(['condition', 'gene'])\n",
    "m.sort_index(inplace=True)\n",
    "o1 = pd.read_table(old1, index_col=0)\n",
    "o1.index = [x.split(':')[0] for x in o1.index]\n",
    "o3 = pd.read_table(old3, index_col=0)\n",
    "o3.index = [x.split(':')[0] for x in o3.index]\n",
    "o1 = o1.stack()\n",
    "o1.name = 'log-ratio'\n",
    "o3 = o3.stack()\n",
    "o3.name = 'p-value'\n",
    "o = o1.to_frame().join(o3.to_frame())\n",
    "o = o.swaplevel()\n",
    "o = o.sort_index()\n",
    "o['signed-pvalue'] = [np.sign(x) * -np.log10(y)\n",
    "                      for x,y in o[['log-ratio', 'p-value']].values]\n",
    "o['phenotype'] = [1 if x is True\n",
    "                  else 0 for x in o['p-value'] < 1E-4]\n",
    "o1 = pd.read_table(old4, index_col=0)\n",
    "o1.index = [x.split(':')[0] for x in o1.index]\n",
    "o3 = pd.read_table(old6, index_col=0)\n",
    "o3.index = [x.split(':')[0] for x in o3.index]\n",
    "o1 = o1.stack()\n",
    "o1.name = 'log-ratio'\n",
    "o3 = o3.stack()\n",
    "o3.name = 'p-value'\n",
    "s = o1.to_frame().join(o3.to_frame())\n",
    "s = s.swaplevel()\n",
    "s = s.sort_index()\n",
    "s['signed-pvalue'] = [np.sign(x) * -np.log10(y)\n",
    "                      for x,y in s[['log-ratio', 'p-value']].values]\n",
    "s['phenotype'] = [1 if x is True\n",
    "                  else 0 for x in s['p-value'] < 1E-4]\n",
    "o = pd.concat([o, s])"
   ]
  },
  {
   "cell_type": "code",
   "execution_count": 7,
   "metadata": {},
   "outputs": [],
   "source": [
    "cs = {}\n",
    "rc = {}\n",
    "for b, (h1, h2) in d.items():\n",
    "    if h2 is None:\n",
    "        c = sorted({x[0] for x in o.index\n",
    "                    if x[0].split(':')[1] == h1})\n",
    "    else:\n",
    "        c = sorted({x[0] for x in o.index\n",
    "                    if x[0].split(':')[1] == h1\n",
    "                    and x[0].split(':')[2] == h2})\n",
    "    for cond in c:\n",
    "        rc[cond] = b\n",
    "    cs[b] = c\n",
    "o = o.rename(index=rc)"
   ]
  },
  {
   "cell_type": "code",
   "execution_count": 8,
   "metadata": {},
   "outputs": [],
   "source": [
    "idx1 = {(x[0], x[1]) for x in m.index}\n",
    "idx2 = {(x[0], x[1]) for x in o.index}\n",
    "idx = idx1.intersection(idx2)"
   ]
  },
  {
   "cell_type": "code",
   "execution_count": 9,
   "metadata": {},
   "outputs": [],
   "source": [
    "m = m.loc[sorted(idx),]\n",
    "o = o.loc[sorted(idx), ]"
   ]
  },
  {
   "cell_type": "code",
   "execution_count": 10,
   "metadata": {},
   "outputs": [],
   "source": [
    "o.index.names = ['condition', 'gene']"
   ]
  },
  {
   "cell_type": "code",
   "execution_count": 11,
   "metadata": {},
   "outputs": [],
   "source": [
    "res = []\n",
    "for c in cs:\n",
    "    if c not in {x[0] for x in m.index}:\n",
    "        continue\n",
    "    if c not in {x[0] for x in o.index}:\n",
    "        continue\n",
    "    \n",
    "    g1 = set(m[m['phenotype'] == 1].loc[c].index)\n",
    "    g2 = set(o[o['phenotype'] == 1].loc[c].index)\n",
    "    \n",
    "    res.append((c, 'no',\n",
    "                len(g1), len(g2),\n",
    "                len(g1.intersection(g2)),\n",
    "                len(g1.intersection(g2)) / len(g1),\n",
    "                len(g1.intersection(g2)) / len(g2)))\n",
    "    for i in range(1000):\n",
    "        rg = {x[1] for x in o[o['phenotype'] == 1].sample(n=o[o['phenotype'] == 1].loc[c].shape[0]).index}\n",
    "        res.append((c, 'phenotypes',\n",
    "                    len(g1), len(rg),\n",
    "                    len(g1.intersection(rg)),\n",
    "                    len(g1.intersection(rg)) / len(g1),\n",
    "                    len(g1.intersection(rg)) / len(rg)))\n",
    "        rg = {x[1] for x in o.sample(n=o[o['phenotype'] == 1].loc[c].shape[0]).index}\n",
    "        res.append((c, 'all',\n",
    "                    len(g1), len(rg),\n",
    "                    len(g1.intersection(rg)),\n",
    "                    len(g1.intersection(rg)) / len(g1),\n",
    "                    len(g1.intersection(rg)) / len(rg)))\n",
    "\n",
    "r = pd.DataFrame(res,\n",
    "                 columns=['condition',\n",
    "                          'random',\n",
    "                          'phenotypes1',\n",
    "                          'phenotypes2',\n",
    "                          'overlap',\n",
    "                          'overlap1',\n",
    "                          'overlap2'])"
   ]
  },
  {
   "cell_type": "code",
   "execution_count": 12,
   "metadata": {},
   "outputs": [],
   "source": [
    "cd = {'ph7.5  (48h)': 'pH 7.5 (48h)',\n",
    "      'cantharidin (72h)': 'Cantharidin (48h)',\n",
    "      '37ºc (48h)': '37ºc (48h)',\n",
    "      'cuso4 (72h)': 'CuSO$_{4}$ (72h)',\n",
    "      'hydroxyurea (48h)': 'Hydroxyurea (48h)',\n",
    "      'methotrexate (48h)': 'Methotrexate (48h)',\n",
    "      'ph8.5 (48h)': 'pH 8.5 (48h)',\n",
    "      'nacl 0.6m (72h)': 'NaCl 0.6M (72h)',\n",
    "      'sorbitol 1m (48h)': 'Sorbitol 1M (48h)'}\n",
    "r['condition'] = [cd.get(x, x)\n",
    "                  for x in r['condition']]"
   ]
  },
  {
   "cell_type": "code",
   "execution_count": 13,
   "metadata": {},
   "outputs": [
    {
     "data": {
      "image/png": "[encoded data removed]",
      "text/plain": [
       "<Figure size 504x216 with 1 Axes>"
      ]
     },
     "metadata": {},
     "output_type": "display_data"
    }
   ],
   "source": [
    "plt.figure(figsize=(7, 3))\n",
    "\n",
    "h1 = sns.boxplot(data=r[r['random'] == 'all'],\n",
    "            x='overlap1',\n",
    "            y='condition',\n",
    "            hue='random',\n",
    "            palette=[sns.xkcd_rgb['light grey']],\n",
    "            order=r[r['random'] == 'no'].sort_values('overlap1')['condition'].values)\n",
    "h2 = sns.stripplot(data=r[r['random'] == 'no'],\n",
    "              x='overlap1',\n",
    "              y='condition',\n",
    "              hue='random',\n",
    "              palette=[sns.xkcd_rgb['light red']],\n",
    "              jitter=0,\n",
    "              size=10,\n",
    "              order=r[r['random'] == 'no'].sort_values('overlap1')['condition'].values)\n",
    "\n",
    "handles, labels = plt.gca().get_legend_handles_labels()\n",
    "plt.legend(handles[::-1],\n",
    "           ['Real data', 'Randomization'],\n",
    "           title='Set')\n",
    "\n",
    "sns.despine(left=True)\n",
    "plt.xlim(-0.01)\n",
    "\n",
    "plt.xlabel('Proportion of previously reported phenotypes')\n",
    "plt.ylabel('Condition')\n",
    "\n",
    "plt.savefig('comparison.png',\n",
    "            dpi=300, bbox_inches='tight',\n",
    "            transparent=True)\n",
    "plt.savefig('comparison.svg',\n",
    "            dpi=300, bbox_inches='tight',\n",
    "            transparent=True);"
   ]
  }
 ],
 "metadata": {
  "kernelspec": {
   "display_name": "Python 3",
   "language": "python",
   "name": "python3"
  },
  "language_info": {
   "codemirror_mode": {
    "name": "ipython",
    "version": 3
   },
   "file_extension": ".py",
   "mimetype": "text/x-python",
   "name": "python",
   "nbconvert_exporter": "python",
   "pygments_lexer": "ipython3",
   "version": "3.6.5"
  }
 },
 "nbformat": 4,
 "nbformat_minor": 2
}
