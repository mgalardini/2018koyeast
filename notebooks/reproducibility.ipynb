{
 "cells": [
  {
   "cell_type": "code",
   "execution_count": 1,
   "metadata": {},
   "outputs": [],
   "source": [
    "scores = '../out/ko_scores_rep.txt'\n",
    "scores1 = '../out/ko_scores.txt'"
   ]
  },
  {
   "cell_type": "code",
   "execution_count": 2,
   "metadata": {},
   "outputs": [],
   "source": [
    "%matplotlib inline\n",
    "\n",
    "import seaborn as sns\n",
    "import matplotlib.pyplot as plt\n",
    "\n",
    "sns.set_style('white')\n",
    "\n",
    "plt.rc('font', size=12)"
   ]
  },
  {
   "cell_type": "code",
   "execution_count": 3,
   "metadata": {},
   "outputs": [],
   "source": [
    "import numpy as np\n",
    "import pandas as pd\n",
    "from scipy import stats"
   ]
  },
  {
   "cell_type": "code",
   "execution_count": 4,
   "metadata": {},
   "outputs": [],
   "source": [
    "m = pd.read_table(scores, index_col=[3, 1, 0, 2, 5])"
   ]
  },
  {
   "cell_type": "markdown",
   "metadata": {},
   "source": [
    "Batches reproducibility (technical/biological replicates)\n",
    "---"
   ]
  },
  {
   "cell_type": "code",
   "execution_count": 5,
   "metadata": {},
   "outputs": [],
   "source": [
    "b1 = m.loc['B1']\n",
    "b2 = m.loc['B2']"
   ]
  },
  {
   "cell_type": "code",
   "execution_count": 6,
   "metadata": {},
   "outputs": [],
   "source": [
    "res = []\n",
    "for c in {x[0]\n",
    "          for x in b1.index}.intersection({x[0]\n",
    "                                           for x in b2.index}):\n",
    "    m1 = b1.loc[c]\n",
    "    m2 = b2.loc[c]\n",
    "    c1 = set(m1.index)\n",
    "    c2 = set(m2.index)\n",
    "    idx = sorted(c1.intersection(c2))\n",
    "    a1 = m1.loc[idx]['score']\n",
    "    a2 = m2.loc[idx]['score']\n",
    "    if len(idx) > 10:\n",
    "        r, p = stats.pearsonr(a1, a2)\n",
    "        res.append((c, r, p))\n",
    "r = pd.DataFrame(res,\n",
    "                 columns=['condition',\n",
    "                          'r', 'p'])"
   ]
  },
  {
   "cell_type": "code",
   "execution_count": 7,
   "metadata": {},
   "outputs": [
    {
     "data": {
      "image/png": "[encoded data removed]",
      "text/plain": [
       "<Figure size 504x144 with 1 Axes>"
      ]
     },
     "metadata": {
      "needs_background": "light"
     },
     "output_type": "display_data"
    }
   ],
   "source": [
    "plt.figure(figsize=(7, 2))\n",
    "\n",
    "sns.boxplot(data=r,\n",
    "            x='r',\n",
    "            color=sns.xkcd_rgb['pale grey'])\n",
    "sns.swarmplot(data=r,\n",
    "              x='r',\n",
    "              size=10,\n",
    "              color='r')\n",
    "plt.xlim(-0.05, 1.05)\n",
    "plt.xlabel('pearson\\'s r')\n",
    "sns.despine(left=True);"
   ]
  },
  {
   "cell_type": "code",
   "execution_count": 8,
   "metadata": {},
   "outputs": [
    {
     "data": {
      "text/html": [
       "<div>\n",
       "<style scoped>\n",
       "    .dataframe tbody tr th:only-of-type {\n",
       "        vertical-align: middle;\n",
       "    }\n",
       "\n",
       "    .dataframe tbody tr th {\n",
       "        vertical-align: top;\n",
       "    }\n",
       "\n",
       "    .dataframe thead th {\n",
       "        text-align: right;\n",
       "    }\n",
       "</style>\n",
       "<table border=\"1\" class=\"dataframe\">\n",
       "  <thead>\n",
       "    <tr style=\"text-align: right;\">\n",
       "      <th></th>\n",
       "      <th>condition</th>\n",
       "      <th>r</th>\n",
       "      <th>p</th>\n",
       "    </tr>\n",
       "  </thead>\n",
       "  <tbody>\n",
       "    <tr>\n",
       "      <th>8</th>\n",
       "      <td>Anaerobic growth (48H)</td>\n",
       "      <td>0.009532</td>\n",
       "      <td>0.462618</td>\n",
       "    </tr>\n",
       "    <tr>\n",
       "      <th>11</th>\n",
       "      <td>DMSO 1% (48H)</td>\n",
       "      <td>0.542892</td>\n",
       "      <td>0.000000</td>\n",
       "    </tr>\n",
       "    <tr>\n",
       "      <th>1</th>\n",
       "      <td>Amphotericin B (48H)</td>\n",
       "      <td>0.563539</td>\n",
       "      <td>0.000000</td>\n",
       "    </tr>\n",
       "    <tr>\n",
       "      <th>7</th>\n",
       "      <td>SC + hepes (48H)</td>\n",
       "      <td>0.636900</td>\n",
       "      <td>0.000000</td>\n",
       "    </tr>\n",
       "    <tr>\n",
       "      <th>9</th>\n",
       "      <td>Sorbitol 1M (48H)</td>\n",
       "      <td>0.654519</td>\n",
       "      <td>0.000000</td>\n",
       "    </tr>\n",
       "    <tr>\n",
       "      <th>4</th>\n",
       "      <td>6-AU (48H)</td>\n",
       "      <td>0.713007</td>\n",
       "      <td>0.000000</td>\n",
       "    </tr>\n",
       "    <tr>\n",
       "      <th>0</th>\n",
       "      <td>39ºC (48H)</td>\n",
       "      <td>0.760533</td>\n",
       "      <td>0.000000</td>\n",
       "    </tr>\n",
       "    <tr>\n",
       "      <th>12</th>\n",
       "      <td>Glycerol 2% (72H)</td>\n",
       "      <td>0.802362</td>\n",
       "      <td>0.000000</td>\n",
       "    </tr>\n",
       "    <tr>\n",
       "      <th>3</th>\n",
       "      <td>Glycerol 2% (48H)</td>\n",
       "      <td>0.809538</td>\n",
       "      <td>0.000000</td>\n",
       "    </tr>\n",
       "    <tr>\n",
       "      <th>2</th>\n",
       "      <td>Caffeine 20mM (48H)</td>\n",
       "      <td>0.818977</td>\n",
       "      <td>0.000000</td>\n",
       "    </tr>\n",
       "    <tr>\n",
       "      <th>10</th>\n",
       "      <td>2,4-Dichlorophenoxyacetic acid (48H)</td>\n",
       "      <td>0.825619</td>\n",
       "      <td>0.000000</td>\n",
       "    </tr>\n",
       "    <tr>\n",
       "      <th>6</th>\n",
       "      <td>Maltose 2% (48H)</td>\n",
       "      <td>0.832338</td>\n",
       "      <td>0.000000</td>\n",
       "    </tr>\n",
       "    <tr>\n",
       "      <th>5</th>\n",
       "      <td>Paraquat (48H)</td>\n",
       "      <td>0.844960</td>\n",
       "      <td>0.000000</td>\n",
       "    </tr>\n",
       "  </tbody>\n",
       "</table>\n",
       "</div>"
      ],
      "text/plain": [
       "                               condition         r         p\n",
       "8                 Anaerobic growth (48H)  0.009532  0.462618\n",
       "11                         DMSO 1% (48H)  0.542892  0.000000\n",
       "1                   Amphotericin B (48H)  0.563539  0.000000\n",
       "7                       SC + hepes (48H)  0.636900  0.000000\n",
       "9                      Sorbitol 1M (48H)  0.654519  0.000000\n",
       "4                             6-AU (48H)  0.713007  0.000000\n",
       "0                             39ºC (48H)  0.760533  0.000000\n",
       "12                     Glycerol 2% (72H)  0.802362  0.000000\n",
       "3                      Glycerol 2% (48H)  0.809538  0.000000\n",
       "2                    Caffeine 20mM (48H)  0.818977  0.000000\n",
       "10  2,4-Dichlorophenoxyacetic acid (48H)  0.825619  0.000000\n",
       "6                       Maltose 2% (48H)  0.832338  0.000000\n",
       "5                         Paraquat (48H)  0.844960  0.000000"
      ]
     },
     "execution_count": 8,
     "metadata": {},
     "output_type": "execute_result"
    }
   ],
   "source": [
    "r.sort_values('r')"
   ]
  },
  {
   "cell_type": "code",
   "execution_count": 9,
   "metadata": {},
   "outputs": [
    {
     "data": {
      "text/plain": [
       "13"
      ]
     },
     "execution_count": 9,
     "metadata": {},
     "output_type": "execute_result"
    }
   ],
   "source": [
    "r.shape[0]"
   ]
  },
  {
   "cell_type": "code",
   "execution_count": 10,
   "metadata": {},
   "outputs": [
    {
     "data": {
      "image/png": "[encoded data removed]",
      "text/plain": [
       "<Figure size 288x288 with 1 Axes>"
      ]
     },
     "metadata": {
      "needs_background": "light"
     },
     "output_type": "display_data"
    }
   ],
   "source": [
    "c1 = set(b1.index)\n",
    "c2 = set(b2.index)\n",
    "idx = sorted(c1.intersection(c2))\n",
    "cdx = set(r[r['r'] >= 0.0]['condition'])\n",
    "mdx = [x for x in idx\n",
    "       if x[0] in cdx]\n",
    "a1 = b1.loc[idx]['score']\n",
    "a2 = b2.loc[idx]['score']\n",
    "d1 = b1.loc[mdx]['score']\n",
    "d2 = b2.loc[mdx]['score']\n",
    "\n",
    "plt.figure(figsize=(4, 4))\n",
    "\n",
    "plt.plot(d1,\n",
    "         d2,\n",
    "         'k.',\n",
    "         alpha=0.25)\n",
    "plt.plot([-22, 12],\n",
    "         [-22, 12],\n",
    "         '--',\n",
    "         color='grey')\n",
    "\n",
    "plt.xlim(-22, 12)\n",
    "plt.ylim(-22, 12)\n",
    "\n",
    "plt.axvline(0,\n",
    "            color='grey',\n",
    "            linestyle='dashed')\n",
    "plt.axhline(0,\n",
    "            color='grey',\n",
    "            linestyle='dashed')\n",
    "\n",
    "plt.xlabel('batch1')\n",
    "plt.ylabel('batch2/3')\n",
    "\n",
    "rv, p = stats.pearsonr(d1,\n",
    "                       d2)\n",
    "\n",
    "plt.title('r: %.3f, p-val: %.2E' % (rv, p));"
   ]
  },
  {
   "cell_type": "code",
   "execution_count": 11,
   "metadata": {},
   "outputs": [
    {
     "data": {
      "text/plain": [
       "(0.7437478663099294, 0.0, '0.000000E+00')"
      ]
     },
     "execution_count": 11,
     "metadata": {},
     "output_type": "execute_result"
    }
   ],
   "source": [
    "rv, p, '%02E' % p"
   ]
  },
  {
   "cell_type": "code",
   "execution_count": 12,
   "metadata": {},
   "outputs": [
    {
     "data": {
      "image/png": "[encoded data removed]",
      "text/plain": [
       "<Figure size 252x216 with 2 Axes>"
      ]
     },
     "metadata": {
      "needs_background": "light"
     },
     "output_type": "display_data"
    }
   ],
   "source": [
    "plt.figure(figsize=(3.5, 3))\n",
    "\n",
    "gs = plt.GridSpec(1, 2, width_ratios=[4, 0.2])\n",
    "ax1 = plt.subplot(gs[0])\n",
    "ax2 = plt.subplot(gs[1])\n",
    "\n",
    "plt.sca(ax1)\n",
    "hb = plt.hexbin(d1, d2, gridsize=100, cmap='viridis', vmax=2200, rasterized=True)\n",
    "\n",
    "cbar = plt.colorbar(hb, cax=ax2)\n",
    "cbar.set_label('Density', rotation=270, labelpad=10)\n",
    "\n",
    "plt.draw()\n",
    "\n",
    "counts = hb.get_array()\n",
    "colors = hb.get_facecolors()\n",
    "colors[:, 3] = counts > 0\n",
    "hb.set_facecolors(colors)\n",
    "\n",
    "plt.xlim(-22, 12)\n",
    "plt.ylim(-22, 12)\n",
    "\n",
    "plt.axvline(0,\n",
    "            color='grey',\n",
    "            linestyle='dashed',\n",
    "            zorder=0)\n",
    "plt.axhline(0,\n",
    "            color='grey',\n",
    "            linestyle='dashed',\n",
    "            zorder=0)\n",
    "\n",
    "plt.xlabel('Replicate 1')\n",
    "plt.ylabel('Replicate 2')\n",
    "\n",
    "rv, p = stats.pearsonr(d1,\n",
    "                       d2)\n",
    "\n",
    "plt.title('Pearson\\'s r: %.3f (N=%d)' % (rv, d1.shape[0]))\n",
    "\n",
    "plt.savefig('reproducibility.png',\n",
    "            dpi=300, bbox_inches='tight',\n",
    "            transparent=True)\n",
    "plt.savefig('reproducibility.svg',\n",
    "            dpi=300, bbox_inches='tight',\n",
    "            transparent=True);"
   ]
  },
  {
   "cell_type": "markdown",
   "metadata": {},
   "source": [
    "Gene duplicates\n",
    "---"
   ]
  },
  {
   "cell_type": "code",
   "execution_count": 13,
   "metadata": {},
   "outputs": [],
   "source": [
    "m1 = pd.read_table(scores1)\n",
    "m1 = m1[m1['gene'] != 'WT']\n",
    "\n",
    "m1 = m1.pivot_table(index='condition',\n",
    "                   columns=['strain',\n",
    "                            'gene',\n",
    "                            'position'],\n",
    "                   values='score').sort_index().T.sort_index()\n",
    "\n",
    "x = []\n",
    "y = []\n",
    "genes = []\n",
    "for s, g in {(x[0], x[1]) for x in m1.index}:\n",
    "    values = m1.loc[(s, g), ]\n",
    "    if values.shape[0] == 2:\n",
    "        genes.append((s, g))\n",
    "        for v in values.values[0]:\n",
    "            x.append(v)\n",
    "        for v in values.values[1]:\n",
    "            y.append(v)\n",
    "\n",
    "x = np.array(x)\n",
    "y = np.array(y)"
   ]
  },
  {
   "cell_type": "code",
   "execution_count": 14,
   "metadata": {},
   "outputs": [
    {
     "data": {
      "text/plain": [
       "2293"
      ]
     },
     "execution_count": 14,
     "metadata": {},
     "output_type": "execute_result"
    }
   ],
   "source": [
    "len(genes)"
   ]
  },
  {
   "cell_type": "code",
   "execution_count": 15,
   "metadata": {},
   "outputs": [
    {
     "data": {
      "image/png": "[encoded data removed]",
      "text/plain": [
       "<Figure size 252x216 with 2 Axes>"
      ]
     },
     "metadata": {
      "needs_background": "light"
     },
     "output_type": "display_data"
    }
   ],
   "source": [
    "plt.figure(figsize=(3.5, 3))\n",
    "\n",
    "gs = plt.GridSpec(1, 2, width_ratios=[4, 0.2])\n",
    "ax1 = plt.subplot(gs[0])\n",
    "ax2 = plt.subplot(gs[1])\n",
    "\n",
    "plt.sca(ax1)\n",
    "hb = plt.hexbin(x, y, gridsize=100, cmap='viridis', vmax=2200, rasterized=True)\n",
    "\n",
    "cbar = plt.colorbar(hb, cax=ax2)\n",
    "cbar.set_label('Density', rotation=270, labelpad=10)\n",
    "\n",
    "plt.draw()\n",
    "\n",
    "counts = hb.get_array()\n",
    "colors = hb.get_facecolors()\n",
    "colors[:, 3] = counts > 0\n",
    "hb.set_facecolors(colors)\n",
    "\n",
    "plt.xlim(-22, 12)\n",
    "plt.ylim(-22, 12)\n",
    "\n",
    "plt.axvline(0,\n",
    "            color='grey',\n",
    "            linestyle='dashed',\n",
    "            zorder=0)\n",
    "plt.axhline(0,\n",
    "            color='grey',\n",
    "            linestyle='dashed',\n",
    "            zorder=0)\n",
    "\n",
    "plt.xlabel('Gene copy 1')\n",
    "plt.ylabel('Gene copy 2')\n",
    "\n",
    "df = pd.DataFrame([x, y]).T.dropna().T\n",
    "\n",
    "rv, p = stats.pearsonr(df.values[0],\n",
    "                       df.values[1])\n",
    "\n",
    "plt.title('Pearson\\'s r: %.3f (N=%d)' % (rv, x.shape[0]))\n",
    "\n",
    "plt.savefig('reproducibility_genes.png',\n",
    "            dpi=300, bbox_inches='tight',\n",
    "            transparent=True)\n",
    "plt.savefig('reproducibility_genes.svg',\n",
    "            dpi=300, bbox_inches='tight',\n",
    "            transparent=True);"
   ]
  },
  {
   "cell_type": "code",
   "execution_count": 16,
   "metadata": {},
   "outputs": [
    {
     "data": {
      "text/plain": [
       "(0.8110949518014695, 0.0, '0.000000E+00')"
      ]
     },
     "execution_count": 16,
     "metadata": {},
     "output_type": "execute_result"
    }
   ],
   "source": [
    "rv, p, '%02E' % p"
   ]
  }
 ],
 "metadata": {
  "kernelspec": {
   "display_name": "Python 3",
   "language": "python",
   "name": "python3"
  },
  "language_info": {
   "codemirror_mode": {
    "name": "ipython",
    "version": 3
   },
   "file_extension": ".py",
   "mimetype": "text/x-python",
   "name": "python",
   "nbconvert_exporter": "python",
   "pygments_lexer": "ipython3",
   "version": "3.6.7"
  }
 },
 "nbformat": 4,
 "nbformat_minor": 2
}
