{
 "cells": [
  {
   "cell_type": "code",
   "execution_count": 1,
   "metadata": {},
   "outputs": [],
   "source": [
    "ct1 = '../data/2018_2008.tsv'\n",
    "ct2 = '../data/2018_2006.tsv'\n",
    "scores = '../out/ko_scores_s288c.txt'\n",
    "old = '../data/parsons_2006.tsv'\n",
    "old1 = '../out/hillenmeyer2008/lscores.tsv'\n",
    "old2 = '../out/hillenmeyer2008/zscores.tsv'\n",
    "old3 = '../out/hillenmeyer2008/pvalues.tsv'"
   ]
  },
  {
   "cell_type": "code",
   "execution_count": 2,
   "metadata": {},
   "outputs": [],
   "source": [
    "# plotting imports\n",
    "%matplotlib inline\n",
    "\n",
    "import matplotlib.pyplot as plt\n",
    "import seaborn as sns\n",
    "\n",
    "sns.set_style('white')\n",
    "\n",
    "plt.rc('font', size=11)\n",
    "plt.rc('xtick', labelsize=11)\n",
    "plt.rc('ytick', labelsize=11)\n",
    "plt.rc('axes', labelsize=12, titlesize=12)\n",
    "plt.rc('legend', fontsize=11)"
   ]
  },
  {
   "cell_type": "code",
   "execution_count": 3,
   "metadata": {},
   "outputs": [],
   "source": [
    "# other imports\n",
    "import random\n",
    "import numpy as np\n",
    "import pandas as pd\n",
    "from scipy import stats"
   ]
  },
  {
   "cell_type": "code",
   "execution_count": 4,
   "metadata": {},
   "outputs": [],
   "source": [
    "d = {}\n",
    "for b, h1, h2, h in pd.read_table(ct1).values:\n",
    "    if str(h2) == 'nan':\n",
    "        h2 = None\n",
    "    else:\n",
    "        h2 = str(int(h2))\n",
    "    d[b] = (h1, h2)"
   ]
  },
  {
   "cell_type": "code",
   "execution_count": 5,
   "metadata": {},
   "outputs": [],
   "source": [
    "m = pd.read_table(scores, index_col=0).loc['S288C'].reset_index()\n",
    "m['condition'] = [x.lower()\n",
    "                  for x in m['condition']]\n",
    "m['signed-qvalue'] = [np.sign(x) * -np.log10(y)\n",
    "                      for x,y in m[['score', 'qvalue']].values]\n",
    "m['phenotype'] = [1 if x is True\n",
    "                  else 0 for x in m['qvalue'] < 0.05]\n",
    "m = m.set_index(['condition', 'gene'])\n",
    "m.sort_index(inplace=True)\n",
    "o1 = pd.read_table(old1, index_col=0)\n",
    "o1.index = [x.split(':')[0] for x in o1.index]\n",
    "o3 = pd.read_table(old3, index_col=0)\n",
    "o3.index = [x.split(':')[0] for x in o3.index]\n",
    "o1 = o1.stack()\n",
    "o1.name = 'log-ratio'\n",
    "o3 = o3.stack()\n",
    "o3.name = 'p-value'\n",
    "o = o1.to_frame().join(o3.to_frame())\n",
    "o = o.swaplevel()\n",
    "o = o.sort_index()\n",
    "o['signed-pvalue'] = [np.sign(x) * -np.log10(y)\n",
    "                      for x,y in o[['log-ratio', 'p-value']].values]\n",
    "o['phenotype'] = [1 if x is True\n",
    "                  else 0 for x in o['p-value'] < np.power(10., -5)]"
   ]
  },
  {
   "cell_type": "code",
   "execution_count": 6,
   "metadata": {},
   "outputs": [],
   "source": [
    "cs = {}\n",
    "for b, (h1, h2) in d.items():\n",
    "    if h2 is None:\n",
    "        c = sorted({x[0] for x in o.index\n",
    "                    if x[0].split(':')[1] == h1})\n",
    "    else:\n",
    "        c = sorted({x[0] for x in o.index\n",
    "                    if x[0].split(':')[1] == h1\n",
    "                    and x[0].split(':')[2] == h2})\n",
    "    cs[b] = c"
   ]
  },
  {
   "cell_type": "code",
   "execution_count": 7,
   "metadata": {},
   "outputs": [],
   "source": [
    "res = []\n",
    "for b, hs in cs.items():\n",
    "    for h in hs:\n",
    "        x = m.loc[b]['score']\n",
    "        x = x[~x.index.duplicated()].dropna()\n",
    "        y = o.loc[h]['log-ratio']\n",
    "        y.index.name = 'gene'\n",
    "        y = y[~y.index.duplicated()].dropna()\n",
    "        idx = sorted(set(x.index).intersection(y.index))\n",
    "        r, p = stats.pearsonr(x.loc[idx],\n",
    "                                y.loc[idx])\n",
    "        res.append((b, h,\n",
    "                    len(m[m['qvalue'] < 0.05].loc[b].index.intersection(idx)),\n",
    "                    len(idx), r, p, 'hillenmeyer2008'))\n",
    "r1 = pd.DataFrame(res,\n",
    "                  columns=['new',\n",
    "                           'old',\n",
    "                           'phenotypes',\n",
    "                           'genes',\n",
    "                           'r',\n",
    "                           'pval', 'set'])"
   ]
  },
  {
   "cell_type": "code",
   "execution_count": 8,
   "metadata": {},
   "outputs": [],
   "source": [
    "d = {}\n",
    "for b, h, n in pd.read_table(ct2).values:\n",
    "    d[b] = h"
   ]
  },
  {
   "cell_type": "code",
   "execution_count": 9,
   "metadata": {},
   "outputs": [],
   "source": [
    "m = pd.read_table(scores, index_col=0).loc['S288C'].reset_index()\n",
    "m['condition'] = [x.lower()\n",
    "                  for x in m['condition']]\n",
    "m = m.set_index(['condition', 'gene'])\n",
    "n = m['score']\n",
    "m.sort_index(inplace=True)\n",
    "o = pd.read_table(old,\n",
    "                  index_col=0,\n",
    "                  na_values=['  '])\n",
    "o.columns = [x.rstrip() for x in o.columns]\n",
    "o = o.stack()\n",
    "o = o.swaplevel()\n",
    "o = o.sort_index()"
   ]
  },
  {
   "cell_type": "code",
   "execution_count": 10,
   "metadata": {},
   "outputs": [],
   "source": [
    "res = []\n",
    "for b, h in d.items():\n",
    "    x = n.loc[b]\n",
    "    x = x[~x.index.duplicated()].dropna()\n",
    "    y = o.loc[h]\n",
    "    y = y[~y.index.duplicated()].dropna()\n",
    "    idx = sorted(set(x.index).intersection(y.index))\n",
    "    r, p = stats.pearsonr(x.loc[idx],\n",
    "                          y.loc[idx])\n",
    "    res.append((b, h,\n",
    "                len(m[m['qvalue'] < 0.05].loc[b].index.intersection(idx)),\n",
    "                len(idx), r, p, 'parsons2006'))\n",
    "r2 = pd.DataFrame(res,\n",
    "                  columns=['new',\n",
    "                           'old',\n",
    "                           'phenotypes',\n",
    "                           'genes',\n",
    "                           'r',\n",
    "                           'pval', 'set'])"
   ]
  },
  {
   "cell_type": "code",
   "execution_count": 25,
   "metadata": {},
   "outputs": [
    {
     "data": {
      "image/png": "[encoded data removed]",
      "text/plain": [
       "<matplotlib.figure.Figure at 0x7f91bf959e10>"
      ]
     },
     "metadata": {},
     "output_type": "display_data"
    }
   ],
   "source": [
    "plt.figure(figsize=(8, 4))\n",
    "\n",
    "plt.subplot(121)\n",
    "\n",
    "plt.scatter(r1['r'],\n",
    "            r1['phenotypes'],\n",
    "            s=-np.log10(r1['pval'] + 1E-100)*2,\n",
    "            color='k',\n",
    "            alpha=0.6)\n",
    "\n",
    "plt.title('hillenmeyer2008')\n",
    "\n",
    "plt.xlabel('scores pearson\\'s correlation')\n",
    "plt.ylabel('bede\\'s # phenotypes')\n",
    "\n",
    "plt.xlim(-0.6, 0.2)\n",
    "plt.ylim(-10, 600)\n",
    "\n",
    "plt.axvline(0,\n",
    "            color='grey',\n",
    "            linestyle='dashed',\n",
    "            zorder=0)\n",
    "\n",
    "plt.subplot(122)\n",
    "\n",
    "plt.scatter(r2['r'],\n",
    "            r2['phenotypes'],\n",
    "            s=-np.log10(r2['pval'] + 1E-100)*2,\n",
    "            color='k',\n",
    "            alpha=0.6)\n",
    "\n",
    "\n",
    "plt.title('parsons2006')\n",
    "\n",
    "plt.xlabel('scores pearson\\'s correlation')\n",
    "plt.ylabel('bede\\'s # phenotypes')\n",
    "\n",
    "plt.xlim(-0.6, 0.2)\n",
    "plt.ylim(-10, 600)\n",
    "\n",
    "plt.axvline(0,\n",
    "            color='grey',\n",
    "            linestyle='dashed',\n",
    "            zorder=0)\n",
    "\n",
    "plt.tight_layout();"
   ]
  },
  {
   "cell_type": "code",
   "execution_count": 32,
   "metadata": {},
   "outputs": [
    {
     "data": {
      "text/plain": [
       "6111"
      ]
     },
     "execution_count": 32,
     "metadata": {},
     "output_type": "execute_result"
    }
   ],
   "source": [
    "m.loc['dmso 1%  (48h)'].shape[0]"
   ]
  },
  {
   "cell_type": "code",
   "execution_count": 31,
   "metadata": {},
   "outputs": [
    {
     "data": {
      "text/plain": [
       "{'dmso 1%  (48h)', 'dmso 6% (48h)'}"
      ]
     },
     "execution_count": 31,
     "metadata": {},
     "output_type": "execute_result"
    }
   ],
   "source": [
    "{x[0] for x in m.index\n",
    " if 'dmso' in x[0]}"
   ]
  },
  {
   "cell_type": "markdown",
   "metadata": {},
   "source": [
    "<h5><a href=\"javascript:toggle()\" target=\"_self\">toggle source code</a></h5>"
   ]
  }
 ],
 "metadata": {
  "kernelspec": {
   "display_name": "Python 3",
   "language": "python",
   "name": "python3"
  },
  "language_info": {
   "codemirror_mode": {
    "name": "ipython",
    "version": 3
   },
   "file_extension": ".py",
   "mimetype": "text/x-python",
   "name": "python",
   "nbconvert_exporter": "python",
   "pygments_lexer": "ipython3",
   "version": "3.6.3"
  }
 },
 "nbformat": 4,
 "nbformat_minor": 1
}
