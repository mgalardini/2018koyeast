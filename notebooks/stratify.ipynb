{
 "cells": [
  {
   "cell_type": "code",
   "execution_count": 1,
   "metadata": {},
   "outputs": [],
   "source": [
    "scores = '../out/ko_scores.txt'"
   ]
  },
  {
   "cell_type": "code",
   "execution_count": 2,
   "metadata": {},
   "outputs": [],
   "source": [
    "# plotting imports\n",
    "%matplotlib inline\n",
    "\n",
    "import matplotlib.pyplot as plt\n",
    "import seaborn as sns\n",
    "\n",
    "sns.set_style('white')\n",
    "\n",
    "plt.rc('font', size=11)\n",
    "plt.rc('xtick', labelsize=11)\n",
    "plt.rc('ytick', labelsize=11)\n",
    "plt.rc('axes', labelsize=12, titlesize=12)\n",
    "plt.rc('legend', fontsize=11)"
   ]
  },
  {
   "cell_type": "code",
   "execution_count": 47,
   "metadata": {},
   "outputs": [],
   "source": [
    "# other imports\n",
    "import random\n",
    "import numpy as np\n",
    "import pandas as pd"
   ]
  },
  {
   "cell_type": "code",
   "execution_count": 117,
   "metadata": {},
   "outputs": [],
   "source": [
    "m = pd.read_table(scores)"
   ]
  },
  {
   "cell_type": "code",
   "execution_count": 118,
   "metadata": {},
   "outputs": [],
   "source": [
    "m['sick'] = np.zeros(m.shape[0])\n",
    "m.loc[m[(m['score'] < 0) &\n",
    "        (m['qvalue'] < 0.05)].index,\n",
    "      'sick'] = 1"
   ]
  },
  {
   "cell_type": "code",
   "execution_count": 119,
   "metadata": {},
   "outputs": [],
   "source": [
    "v = m.groupby(['strain', 'gene', 'position']).sum()['sick']"
   ]
  },
  {
   "cell_type": "code",
   "execution_count": 13,
   "metadata": {},
   "outputs": [],
   "source": [
    "v = (m.groupby(['strain', 'gene', 'position']).sum()['sick'] /\n",
    "     m.groupby(['strain', 'gene', 'position']).count()['sick'])"
   ]
  },
  {
   "cell_type": "code",
   "execution_count": 120,
   "metadata": {},
   "outputs": [],
   "source": [
    "res = []\n",
    "for strain in {x[0] for x in v.index}:\n",
    "    y = v.loc[strain]\n",
    "    genes = sorted(set(y.groupby('gene').count()[\n",
    "                       y.groupby('gene').count() == 2\n",
    "                       ].sort_values().index))\n",
    "    for g in genes:\n",
    "        res.append((strain, g, y.loc[g].mad(), 'same'))\n",
    "        res.append((strain, g, y.loc[[g, random.choice(genes)]].mad(), 'shuffled'))\n",
    "r = pd.DataFrame(res,\n",
    "                 columns=['strain',\n",
    "                          'gene',\n",
    "                          'mad',\n",
    "                          'set'])"
   ]
  },
  {
   "cell_type": "markdown",
   "metadata": {},
   "source": [
    "**same genes have little variance in the number of phenotypes as compared to random gene pairs**"
   ]
  },
  {
   "cell_type": "code",
   "execution_count": 121,
   "metadata": {},
   "outputs": [
    {
     "data": {
      "text/plain": [
       "<matplotlib.axes._subplots.AxesSubplot at 0x7fa3d446fe80>"
      ]
     },
     "execution_count": 121,
     "metadata": {},
     "output_type": "execute_result"
    },
    {
     "data": {
      "image/png": "[encoded data removed]",
      "text/plain": [
       "<matplotlib.figure.Figure at 0x7fa3d446f390>"
      ]
     },
     "metadata": {},
     "output_type": "display_data"
    }
   ],
   "source": [
    "sns.kdeplot(r[r['set'] == 'same']['mad'])\n",
    "sns.kdeplot(r[r['set'] == 'shuffled']['mad'])"
   ]
  },
  {
   "cell_type": "markdown",
   "metadata": {},
   "source": [
    "**number of phenotypes conservation across strains**"
   ]
  },
  {
   "cell_type": "code",
   "execution_count": 122,
   "metadata": {},
   "outputs": [],
   "source": [
    "genes = set()\n",
    "m.set_index('gene', inplace=True)\n",
    "s = len(set(m['strain']))\n",
    "for g in set(m.index):\n",
    "    if len(set(m.loc[g]['strain'])) == s:\n",
    "        genes.add(g)"
   ]
  },
  {
   "cell_type": "code",
   "execution_count": 123,
   "metadata": {},
   "outputs": [],
   "source": [
    "v = v.loc[(slice(None), sorted(genes))]"
   ]
  },
  {
   "cell_type": "code",
   "execution_count": 124,
   "metadata": {},
   "outputs": [],
   "source": [
    "res = {}\n",
    "for strain in {x[0] for x in v.index}:\n",
    "    y = v.loc[strain]\n",
    "    genes = {x[0]: x[1] for x in y.index}\n",
    "    genes = [(x, genes[x]) for x in sorted(genes)]\n",
    "    res[strain] = v.loc[(strain,\n",
    "                        [x[0] for x in genes],\n",
    "                        [x[1] for x in genes])].values"
   ]
  },
  {
   "cell_type": "code",
   "execution_count": 125,
   "metadata": {},
   "outputs": [],
   "source": [
    "p = pd.DataFrame(res,\n",
    "                 index=[x[0]\n",
    "                        for x in genes])"
   ]
  },
  {
   "cell_type": "code",
   "execution_count": 126,
   "metadata": {},
   "outputs": [
    {
     "data": {
      "text/plain": [
       "<matplotlib.axes._subplots.AxesSubplot at 0x7fa3dc2f14a8>"
      ]
     },
     "execution_count": 126,
     "metadata": {},
     "output_type": "execute_result"
    },
    {
     "data": {
      "image/png": "[encoded data removed]",
      "text/plain": [
       "<matplotlib.figure.Figure at 0x7fa3d446f588>"
      ]
     },
     "metadata": {},
     "output_type": "display_data"
    }
   ],
   "source": [
    "sns.kdeplot(p.T.mad())\n",
    "w = p.copy(deep=True).T\n",
    "for c in w.index:\n",
    "    w.loc[c] = w.loc[c].sample(frac=1)\n",
    "sns.kdeplot(w.T.mad())"
   ]
  },
  {
   "cell_type": "code",
   "execution_count": null,
   "metadata": {},
   "outputs": [],
   "source": []
  },
  {
   "cell_type": "code",
   "execution_count": 166,
   "metadata": {},
   "outputs": [],
   "source": [
    "m = pd.read_table(scores)\n",
    "m['sick'] = np.zeros(m.shape[0])\n",
    "m.loc[m[(m['score'] < 0) &\n",
    "        (m['qvalue'] < 0.05)].index,\n",
    "      'sick'] = 1\n",
    "v = m.groupby(['strain', 'gene', 'position']).sum()['sick']\n",
    "genes = sorted({y[1] for y in v.index} - {'WT', 'YOR202W'})\n",
    "v = pd.Series([v.loc[slice(None), x].groupby('strain').max().mean()\n",
    "               for x in genes],\n",
    "              index=genes)"
   ]
  },
  {
   "cell_type": "code",
   "execution_count": 176,
   "metadata": {},
   "outputs": [],
   "source": [
    "g0 = {x for x in v[v == 0].index}\n",
    "g1 = {x for x in v[(v >= 1) &\n",
    "                   (v <= 2)].index}\n",
    "g2 = {x for x in v[(v >= 3) &\n",
    "                   (v <= 5)].index}\n",
    "g3 = {x for x in v[v > 5].index}"
   ]
  },
  {
   "cell_type": "code",
   "execution_count": 169,
   "metadata": {},
   "outputs": [
    {
     "data": {
      "image/png": "[encoded data removed]",
      "text/plain": [
       "<matplotlib.figure.Figure at 0x7fa3d4311668>"
      ]
     },
     "metadata": {},
     "output_type": "display_data"
    }
   ],
   "source": [
    "for i in range(int(v.max()+1)):\n",
    "    plt.plot(i, v[v >= i].shape[0],\n",
    "             'ko')"
   ]
  },
  {
   "cell_type": "markdown",
   "metadata": {},
   "source": [
    "<h5><a href=\"javascript:toggle()\" target=\"_self\">toggle source code</a></h5>"
   ]
  }
 ],
 "metadata": {
  "kernelspec": {
   "display_name": "Python 3",
   "language": "python",
   "name": "python3"
  },
  "language_info": {
   "codemirror_mode": {
    "name": "ipython",
    "version": 3
   },
   "file_extension": ".py",
   "mimetype": "text/x-python",
   "name": "python",
   "nbconvert_exporter": "python",
   "pygments_lexer": "ipython3",
   "version": "3.6.3"
  }
 },
 "nbformat": 4,
 "nbformat_minor": 1
}
